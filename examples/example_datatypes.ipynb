{
 "cells": [
  {
   "cell_type": "markdown",
   "metadata": {},
   "source": [
    "# Creating datatypes"
   ]
  },
  {
   "cell_type": "code",
   "execution_count": 1,
   "metadata": {},
   "outputs": [],
   "source": [
    "from recordclass import dataobject\n",
    "from recordclass._linkedlist import linkedlist\n",
    "import sys"
   ]
  },
  {
   "cell_type": "markdown",
   "metadata": {},
   "source": [
    "## LinkedList"
   ]
  },
  {
   "cell_type": "code",
   "execution_count": 2,
   "metadata": {},
   "outputs": [],
   "source": [
    "class LinkedItem(dataobject, fast_new=True):\n",
    "    val: object\n",
    "    next: 'LinkedItem'\n",
    "    \n",
    "class LinkedList(dataobject):\n",
    "    start: LinkedItem = None\n",
    "    end: LinkedItem = None\n",
    "        \n",
    "    def append(self, val):\n",
    "        link = LinkedItem(val, None)\n",
    "        if self.start is None:\n",
    "            self.start = link\n",
    "        else:\n",
    "            self.end.next = link\n",
    "        self.end = link\n",
    "        \n",
    "    def __del__(self):\n",
    "        curr = self.start\n",
    "        while curr is not None:\n",
    "            next = curr.next\n",
    "            curr.next = None\n",
    "            curr = next\n",
    "\n",
    "    def __iter__(self):\n",
    "        return IterLinkedList(self)\n",
    "\n",
    "class IterLinkedList(dataobject, fast_new=True):\n",
    "    node: LinkedItem\n",
    "        \n",
    "    def __init__(self, ll):\n",
    "        self.node = ll.start\n",
    "    \n",
    "    def __next__(self):\n",
    "        node =  self.node\n",
    "        if node is None:\n",
    "            raise StopIteration\n",
    "        \n",
    "        val = node.val\n",
    "        self.node = node.next\n",
    "        return val\n"
   ]
  },
  {
   "cell_type": "code",
   "execution_count": 3,
   "metadata": {},
   "outputs": [],
   "source": [
    "def make_llist(N):\n",
    "    ll = LinkedList()\n",
    "    for i in range(N):\n",
    "        ll.append(i)\n",
    "    return ll"
   ]
  },
  {
   "cell_type": "code",
   "execution_count": 4,
   "metadata": {},
   "outputs": [],
   "source": [
    "class LinkedItem2:\n",
    "    __slots__ = 'val', 'next'\n",
    "\n",
    "class LinkedList2:\n",
    "    __slots__ = 'start', 'end'\n",
    "        \n",
    "    def __init__(self, start=None, end=None):\n",
    "        self.start = start\n",
    "        self.end = end\n",
    "\n",
    "    def append(self, val):\n",
    "        link = LinkedItem2()\n",
    "        link.val = val\n",
    "        link.next = None\n",
    "        if self.start is None:\n",
    "            self.start = link\n",
    "        else:\n",
    "            self.end.next = link\n",
    "        self.end = link\n",
    "\n",
    "    def __iter__(self):\n",
    "        return IterLinkedList2(self)\n",
    "\n",
    "class IterLinkedList2:\n",
    "    __slots__ = 'node',\n",
    "    \n",
    "    def __init__(self, ll):\n",
    "        self.node = ll.start\n",
    "    \n",
    "    def __next__(self):\n",
    "        node =  self.node\n",
    "        if node is None:\n",
    "            raise StopIteration\n",
    "        \n",
    "        val = node.val\n",
    "        self.node = node.next\n",
    "        return val"
   ]
  },
  {
   "cell_type": "code",
   "execution_count": 5,
   "metadata": {},
   "outputs": [],
   "source": [
    "def make_llist2(N):\n",
    "    ll = LinkedList2()\n",
    "    for i in range(N):\n",
    "        ll.append(i)\n",
    "    return ll"
   ]
  },
  {
   "cell_type": "code",
   "execution_count": 6,
   "metadata": {},
   "outputs": [],
   "source": [
    "N = 10000000\n",
    "Mb = 1000000"
   ]
  },
  {
   "cell_type": "code",
   "execution_count": 7,
   "metadata": {},
   "outputs": [
    {
     "name": "stdout",
     "output_type": "stream",
     "text": [
      "CPU times: user 2 s, sys: 160 ms, total: 2.16 s\n",
      "Wall time: 2.16 s\n"
     ]
    }
   ],
   "source": [
    "%time ll1 = make_llist(N)"
   ]
  },
  {
   "cell_type": "code",
   "execution_count": 8,
   "metadata": {},
   "outputs": [
    {
     "name": "stdout",
     "output_type": "stream",
     "text": [
      "CPU times: user 1.19 s, sys: 0 ns, total: 1.19 s\n",
      "Wall time: 1.18 s\n",
      "49999995000000\n"
     ]
    }
   ],
   "source": [
    "%time s1 = sum(ll1)\n",
    "print(s1)"
   ]
  },
  {
   "cell_type": "code",
   "execution_count": 9,
   "metadata": {},
   "outputs": [
    {
     "name": "stdout",
     "output_type": "stream",
     "text": [
      "Memory footprint: 320.00 Мб\n"
     ]
    }
   ],
   "source": [
    "M1 = sys.getsizeof(ll1) + N * sys.getsizeof(ll1.start)\n",
    "print('Memory footprint: %.2f Мб' % (M1/1000000))\n",
    "# del ll1"
   ]
  },
  {
   "cell_type": "code",
   "execution_count": 10,
   "metadata": {},
   "outputs": [
    {
     "name": "stdout",
     "output_type": "stream",
     "text": [
      "CPU times: user 5.47 s, sys: 159 ms, total: 5.62 s\n",
      "Wall time: 5.62 s\n"
     ]
    }
   ],
   "source": [
    "%time ll2 = make_llist2(N)"
   ]
  },
  {
   "cell_type": "code",
   "execution_count": 11,
   "metadata": {},
   "outputs": [
    {
     "name": "stdout",
     "output_type": "stream",
     "text": [
      "CPU times: user 1.22 s, sys: 0 ns, total: 1.22 s\n",
      "Wall time: 1.21 s\n",
      "49999995000000\n"
     ]
    }
   ],
   "source": [
    "%time s2 = sum(ll2)\n",
    "print(s2)"
   ]
  },
  {
   "cell_type": "code",
   "execution_count": 12,
   "metadata": {},
   "outputs": [
    {
     "name": "stdout",
     "output_type": "stream",
     "text": [
      "Memory footprint: 480.00 Мб\n"
     ]
    }
   ],
   "source": [
    "M2 = sys.getsizeof(ll2) + N * sys.getsizeof(ll2.start)\n",
    "print('Memory footprint: %.2f Мб' % (M2/1000000))\n",
    "# del ll2"
   ]
  },
  {
   "cell_type": "code",
   "execution_count": 13,
   "metadata": {},
   "outputs": [
    {
     "name": "stdout",
     "output_type": "stream",
     "text": [
      "66.66666666666667\n"
     ]
    }
   ],
   "source": [
    "print(100*M1/M2)"
   ]
  },
  {
   "cell_type": "code",
   "execution_count": 14,
   "metadata": {},
   "outputs": [],
   "source": [
    "def make_llist3(N):\n",
    "    ll = linkedlist()\n",
    "    for i in range(N):\n",
    "        ll.append(i)\n",
    "    return ll"
   ]
  },
  {
   "cell_type": "code",
   "execution_count": 15,
   "metadata": {},
   "outputs": [
    {
     "name": "stdout",
     "output_type": "stream",
     "text": [
      "CPU times: user 654 ms, sys: 128 ms, total: 782 ms\n",
      "Wall time: 781 ms\n"
     ]
    }
   ],
   "source": [
    "%time ll3 = make_llist3(N)"
   ]
  },
  {
   "cell_type": "code",
   "execution_count": 16,
   "metadata": {},
   "outputs": [
    {
     "name": "stdout",
     "output_type": "stream",
     "text": [
      "CPU times: user 113 ms, sys: 18 µs, total: 113 ms\n",
      "Wall time: 112 ms\n",
      "49999995000000\n"
     ]
    }
   ],
   "source": [
    "%time s3 = sum(ll3)\n",
    "print(s3)"
   ]
  },
  {
   "cell_type": "code",
   "execution_count": 17,
   "metadata": {},
   "outputs": [
    {
     "name": "stdout",
     "output_type": "stream",
     "text": [
      "Memory footprint: 320.00 Мб\n"
     ]
    }
   ],
   "source": [
    "M3 = sys.getsizeof(ll3) + N * sys.getsizeof(ll3.start)\n",
    "print('Memory footprint: %.2f Мб' % (M3/1000000))\n",
    "# del ll3"
   ]
  },
  {
   "cell_type": "code",
   "execution_count": null,
   "metadata": {},
   "outputs": [],
   "source": []
  }
 ],
 "metadata": {
  "kernelspec": {
   "display_name": "Python 3",
   "language": "python",
   "name": "python3"
  },
  "language_info": {
   "codemirror_mode": {
    "name": "ipython",
    "version": 3
   },
   "file_extension": ".py",
   "mimetype": "text/x-python",
   "name": "python",
   "nbconvert_exporter": "python",
   "pygments_lexer": "ipython3",
   "version": "3.9.2"
  }
 },
 "nbformat": 4,
 "nbformat_minor": 4
}
