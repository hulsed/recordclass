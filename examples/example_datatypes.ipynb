{
 "cells": [
  {
   "cell_type": "markdown",
   "metadata": {},
   "source": [
    "# Creating datatypes"
   ]
  },
  {
   "cell_type": "code",
   "execution_count": 1,
   "metadata": {},
   "outputs": [],
   "source": [
    "from recordclass import dataobject, clsconfig\n",
    "from recordclass._linkedlist import linkedlist\n",
    "import sys"
   ]
  },
  {
   "cell_type": "markdown",
   "metadata": {},
   "source": [
    "## LinkedList"
   ]
  },
  {
   "cell_type": "code",
   "execution_count": 2,
   "metadata": {},
   "outputs": [],
   "source": [
    "class LinkedItem(dataobject, fast_new=True):\n",
    "    val: object\n",
    "    next: 'LinkedItem'\n",
    "\n",
    "@clsconfig(deep_dealloc=True)\n",
    "class LinkedList(dataobject):\n",
    "    start: LinkedItem = None\n",
    "    end: LinkedItem = None\n",
    "        \n",
    "    def append(self, val):\n",
    "        link = LinkedItem(val, None)\n",
    "        if self.start is None:\n",
    "            self.start = link\n",
    "        else:\n",
    "            self.end.next = link\n",
    "        self.end = link\n",
    "        \n",
    "#     def __del__(self):\n",
    "#         curr = self.start\n",
    "#         while curr is not None:\n",
    "#             next = curr.next\n",
    "#             curr.next = None\n",
    "#             curr = next\n",
    "\n",
    "    def __iter__(self):\n",
    "        return IterLinkedList(self)\n",
    "\n",
    "class IterLinkedList(dataobject, fast_new=True):\n",
    "    node: LinkedItem\n",
    "        \n",
    "    def __init__(self, ll):\n",
    "        self.node = ll.start\n",
    "    \n",
    "    def __next__(self):\n",
    "        node =  self.node\n",
    "        if node is None:\n",
    "            raise StopIteration\n",
    "        \n",
    "        val = node.val\n",
    "        self.node = node.next\n",
    "        return val\n"
   ]
  },
  {
   "cell_type": "code",
   "execution_count": 3,
   "metadata": {},
   "outputs": [],
   "source": [
    "def make_llist(N):\n",
    "    ll = LinkedList()\n",
    "    for i in range(N):\n",
    "        ll.append(i)\n",
    "    return ll"
   ]
  },
  {
   "cell_type": "code",
   "execution_count": 4,
   "metadata": {},
   "outputs": [],
   "source": [
    "class LinkedItem2:\n",
    "    __slots__ = 'val', 'next'\n",
    "\n",
    "    def __init__(self, val, next):\n",
    "        self.val = val\n",
    "        self.next = next\n",
    "    \n",
    "class LinkedList2:\n",
    "    __slots__ = 'start', 'end'\n",
    "        \n",
    "    def __init__(self, start=None, end=None):\n",
    "        self.start = start\n",
    "        self.end = end\n",
    "\n",
    "    def append(self, val):\n",
    "        link = LinkedItem2(val, None)\n",
    "#         link.val = val\n",
    "#         link.next = None\n",
    "        if self.start is None:\n",
    "            self.start = link\n",
    "        else:\n",
    "            self.end.next = link\n",
    "        self.end = link\n",
    "\n",
    "    def __iter__(self):\n",
    "        return IterLinkedList2(self)\n",
    "\n",
    "class IterLinkedList2:\n",
    "    __slots__ = 'node',\n",
    "    \n",
    "    def __init__(self, ll):\n",
    "        self.node = ll.start\n",
    "    \n",
    "    def __next__(self):\n",
    "        node =  self.node\n",
    "        if node is None:\n",
    "            raise StopIteration\n",
    "        \n",
    "        val = node.val\n",
    "        self.node = node.next\n",
    "        return val"
   ]
  },
  {
   "cell_type": "code",
   "execution_count": 5,
   "metadata": {},
   "outputs": [],
   "source": [
    "def make_llist2(N):\n",
    "    ll = LinkedList2()\n",
    "    for i in range(N):\n",
    "        ll.append(i)\n",
    "    return ll"
   ]
  },
  {
   "cell_type": "code",
   "execution_count": 19,
   "metadata": {},
   "outputs": [],
   "source": [
    "N = 1000000\n",
    "Mb = 1000000"
   ]
  },
  {
   "cell_type": "code",
   "execution_count": 20,
   "metadata": {},
   "outputs": [
    {
     "name": "stdout",
     "output_type": "stream",
     "text": [
      "CPU times: user 261 ms, sys: 19.7 ms, total: 281 ms\n",
      "Wall time: 279 ms\n"
     ]
    }
   ],
   "source": [
    "%time ll1 = make_llist(N)"
   ]
  },
  {
   "cell_type": "code",
   "execution_count": 21,
   "metadata": {},
   "outputs": [
    {
     "name": "stdout",
     "output_type": "stream",
     "text": [
      "CPU times: user 138 ms, sys: 0 ns, total: 138 ms\n",
      "Wall time: 136 ms\n",
      "499999500000\n"
     ]
    }
   ],
   "source": [
    "%time s1 = sum(ll1)\n",
    "print(s1)"
   ]
  },
  {
   "cell_type": "code",
   "execution_count": 22,
   "metadata": {},
   "outputs": [
    {
     "name": "stdout",
     "output_type": "stream",
     "text": [
      "32 32\n",
      "Memory footprint: 32.00 Мб\n"
     ]
    }
   ],
   "source": [
    "print(sys.getsizeof(ll1.start), sys.getsizeof(ll1))\n",
    "M1 = sys.getsizeof(ll1) + N * sys.getsizeof(ll1.start)\n",
    "print('Memory footprint: %.2f Мб' % (M1/1000000))\n",
    "# del ll1"
   ]
  },
  {
   "cell_type": "code",
   "execution_count": 23,
   "metadata": {},
   "outputs": [
    {
     "name": "stdout",
     "output_type": "stream",
     "text": [
      "CPU times: user 715 ms, sys: 11.7 ms, total: 727 ms\n",
      "Wall time: 725 ms\n"
     ]
    }
   ],
   "source": [
    "%time ll2 = make_llist2(N)"
   ]
  },
  {
   "cell_type": "code",
   "execution_count": 24,
   "metadata": {},
   "outputs": [
    {
     "name": "stdout",
     "output_type": "stream",
     "text": [
      "CPU times: user 146 ms, sys: 78 µs, total: 146 ms\n",
      "Wall time: 144 ms\n",
      "499999500000\n"
     ]
    }
   ],
   "source": [
    "%time s2 = sum(ll2)\n",
    "print(s2)"
   ]
  },
  {
   "cell_type": "code",
   "execution_count": 25,
   "metadata": {},
   "outputs": [
    {
     "name": "stdout",
     "output_type": "stream",
     "text": [
      "48 48\n",
      "Memory footprint: 48.00 Мб\n"
     ]
    }
   ],
   "source": [
    "print(sys.getsizeof(ll2.start), sys.getsizeof(ll2))\n",
    "M2 = sys.getsizeof(ll2) + N * sys.getsizeof(ll2.start)\n",
    "print('Memory footprint: %.2f Мб' % (M2/1000000))\n",
    "# del ll2"
   ]
  },
  {
   "cell_type": "code",
   "execution_count": 26,
   "metadata": {},
   "outputs": [
    {
     "name": "stdout",
     "output_type": "stream",
     "text": [
      "66.66666666666667\n"
     ]
    }
   ],
   "source": [
    "print(100*M1/M2)"
   ]
  },
  {
   "cell_type": "code",
   "execution_count": 27,
   "metadata": {},
   "outputs": [],
   "source": [
    "def make_llist3(N):\n",
    "    ll = linkedlist()\n",
    "    for i in range(N):\n",
    "        ll.append(i)\n",
    "    return ll"
   ]
  },
  {
   "cell_type": "code",
   "execution_count": 28,
   "metadata": {},
   "outputs": [
    {
     "name": "stdout",
     "output_type": "stream",
     "text": [
      "CPU times: user 117 ms, sys: 27.9 ms, total: 145 ms\n",
      "Wall time: 144 ms\n"
     ]
    }
   ],
   "source": [
    "%time ll3 = make_llist3(N)"
   ]
  },
  {
   "cell_type": "code",
   "execution_count": 29,
   "metadata": {},
   "outputs": [
    {
     "name": "stdout",
     "output_type": "stream",
     "text": [
      "CPU times: user 12.9 ms, sys: 0 ns, total: 12.9 ms\n",
      "Wall time: 12.8 ms\n",
      "499999500000\n"
     ]
    }
   ],
   "source": [
    "%time s3 = sum(ll3)\n",
    "print(s3)"
   ]
  },
  {
   "cell_type": "code",
   "execution_count": 30,
   "metadata": {},
   "outputs": [
    {
     "name": "stdout",
     "output_type": "stream",
     "text": [
      "Memory footprint: 32.00 Мб\n"
     ]
    }
   ],
   "source": [
    "M3 = sys.getsizeof(ll3) + N * sys.getsizeof(ll3.start)\n",
    "print('Memory footprint: %.2f Мб' % (M3/1000000))\n",
    "# del ll3"
   ]
  },
  {
   "cell_type": "code",
   "execution_count": 31,
   "metadata": {},
   "outputs": [],
   "source": [
    "# import random\n",
    "\n",
    "# def test():\n",
    "#     l = [1]\n",
    "#     m = 10000000\n",
    "#     k = 3\n",
    "#     while l:\n",
    "#         if m >= 0:\n",
    "#             for v in range(k):\n",
    "#                 l.append(v)\n",
    "#             m -= 1\n",
    "#         x = l.pop()"
   ]
  },
  {
   "cell_type": "code",
   "execution_count": null,
   "metadata": {},
   "outputs": [],
   "source": []
  }
 ],
 "metadata": {
  "kernelspec": {
   "display_name": "Python 3",
   "language": "python",
   "name": "python3"
  },
  "language_info": {
   "codemirror_mode": {
    "name": "ipython",
    "version": 3
   },
   "file_extension": ".py",
   "mimetype": "text/x-python",
   "name": "python",
   "nbconvert_exporter": "python",
   "pygments_lexer": "ipython3",
   "version": "3.9.2"
  }
 },
 "nbformat": 4,
 "nbformat_minor": 4
}
