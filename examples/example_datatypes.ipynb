{
 "cells": [
  {
   "cell_type": "markdown",
   "metadata": {},
   "source": [
    "# Creating datatypes"
   ]
  },
  {
   "cell_type": "code",
   "execution_count": 1,
   "metadata": {},
   "outputs": [],
   "source": [
    "from recordclass import dataobject"
   ]
  },
  {
   "cell_type": "markdown",
   "metadata": {},
   "source": [
    "## LinkedList"
   ]
  },
  {
   "cell_type": "code",
   "execution_count": 10,
   "metadata": {},
   "outputs": [],
   "source": [
    "class LinkedItem(dataobject):\n",
    "    val: object\n",
    "    next: \"LinkedItem\"\n",
    "\n",
    "class LinkedList(dataobject):\n",
    "    start: LinkedItem\n",
    "    end: LinkedItem\n",
    "        \n",
    "    def append(self, val):\n",
    "        link = LinkedItem(val, None)\n",
    "        if self.start is None:\n",
    "            self.start = link\n",
    "            self.end = link\n",
    "        else:\n",
    "            self.end.next = link\n",
    "            self.end = link\n",
    "            \n",
    "#     def extend(self, vals):\n",
    "#         iter_vals = iter(vals)\n",
    "\n",
    "#         val = next(iter_vals)\n",
    "#         if self.start is None:\n",
    "#             self.start = link\n",
    "#             self.end = link\n",
    "#         else:\n",
    "#             self.end.next = link\n",
    "#             self.end = link\n",
    "\n",
    "#         for val in iter_vals:\n",
    "#             self.end.next = link\n",
    "#             self.end = link\n",
    "    \n",
    "#     def remove(self, val):\n",
    "#         start = self.start\n",
    "#         if start is None:\n",
    "#             return\n",
    "        \n",
    "#         end = self.end\n",
    "        \n",
    "#         curr = start\n",
    "#         if curr.val == val:\n",
    "#             self.start = curr.next\n",
    "#             if self.end is curr:\n",
    "#                 self.end = None\n",
    "#             curr.next = None\n",
    "#             return\n",
    "\n",
    "#         prev = curr\n",
    "#         curr = curr.next\n",
    "\n",
    "#         while curr.next is not None:\n",
    "#             if curr.val == val:\n",
    "#                 prev.next = curr.next\n",
    "#                 return\n",
    "                    \n",
    "#             prev = curr\n",
    "#             curr = curr.next\n"
   ]
  },
  {
   "cell_type": "code",
   "execution_count": 11,
   "metadata": {},
   "outputs": [],
   "source": [
    "ll = LinkedList(None, None)"
   ]
  },
  {
   "cell_type": "code",
   "execution_count": 12,
   "metadata": {},
   "outputs": [],
   "source": [
    "ll.append(1)"
   ]
  },
  {
   "cell_type": "code",
   "execution_count": 14,
   "metadata": {},
   "outputs": [
    {
     "data": {
      "text/plain": [
       "(LinkedItem(val=1, next=None), LinkedItem(val=1, next=None))"
      ]
     },
     "execution_count": 14,
     "metadata": {},
     "output_type": "execute_result"
    }
   ],
   "source": [
    "ll.start, ll.end"
   ]
  },
  {
   "cell_type": "code",
   "execution_count": 15,
   "metadata": {},
   "outputs": [],
   "source": [
    "ll.append(2)"
   ]
  },
  {
   "cell_type": "code",
   "execution_count": 16,
   "metadata": {},
   "outputs": [
    {
     "data": {
      "text/plain": [
       "LinkedList(start=LinkedItem(val=1, next=LinkedItem(val=2, next=None)), end=LinkedItem(val=2, next=None))"
      ]
     },
     "execution_count": 16,
     "metadata": {},
     "output_type": "execute_result"
    }
   ],
   "source": [
    "ll"
   ]
  },
  {
   "cell_type": "code",
   "execution_count": null,
   "metadata": {},
   "outputs": [],
   "source": []
  }
 ],
 "metadata": {
  "kernelspec": {
   "display_name": "Python 3",
   "language": "python",
   "name": "python3"
  },
  "language_info": {
   "codemirror_mode": {
    "name": "ipython",
    "version": 3
   },
   "file_extension": ".py",
   "mimetype": "text/x-python",
   "name": "python",
   "nbconvert_exporter": "python",
   "pygments_lexer": "ipython3",
   "version": "3.9.2"
  }
 },
 "nbformat": 4,
 "nbformat_minor": 4
}
