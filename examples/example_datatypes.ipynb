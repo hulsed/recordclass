{
 "cells": [
  {
   "cell_type": "markdown",
   "metadata": {},
   "source": [
    "# Using dataobject-based classes for creating common datatypes"
   ]
  },
  {
   "cell_type": "code",
   "execution_count": 1,
   "metadata": {},
   "outputs": [],
   "source": [
    "from recordclass import dataobject, clsconfig\n",
    "from recordclass._linkedlist import linkedlist\n",
    "import sys"
   ]
  },
  {
   "cell_type": "markdown",
   "metadata": {},
   "source": [
    "## LinkedList"
   ]
  },
  {
   "cell_type": "code",
   "execution_count": 2,
   "metadata": {},
   "outputs": [],
   "source": [
    "class LinkedItem(dataobject, fast_new=True):\n",
    "    val: object\n",
    "    next: 'LinkedItem'\n",
    "\n",
    "# @clsconfig(deep_dealloc=True)\n",
    "class LinkedList(dataobject, deep_dealloc=True):\n",
    "    start: LinkedItem = None\n",
    "    end: LinkedItem = None\n",
    "        \n",
    "    def append(self, val):\n",
    "        link = LinkedItem(val, None)\n",
    "        if self.start is None:\n",
    "            self.start = link\n",
    "        else:\n",
    "            self.end.next = link\n",
    "        self.end = link\n",
    "        \n",
    "#     def __del__(self):\n",
    "#         curr = self.start\n",
    "#         while curr is not None:\n",
    "#             next = curr.next\n",
    "#             curr.next = None\n",
    "#             curr = next\n",
    "\n",
    "    def __iter__(self):\n",
    "        return IterLinkedList(self)\n",
    "\n",
    "class IterLinkedList(dataobject, fast_new=True):\n",
    "    node: LinkedItem\n",
    "        \n",
    "    def __init__(self, ll):\n",
    "        self.node = ll.start\n",
    "    \n",
    "    def __next__(self):\n",
    "        node =  self.node\n",
    "        if node is None:\n",
    "            raise StopIteration\n",
    "        \n",
    "        val = node.val\n",
    "        self.node = node.next\n",
    "        return val\n"
   ]
  },
  {
   "cell_type": "code",
   "execution_count": 3,
   "metadata": {},
   "outputs": [],
   "source": [
    "def make_llist(N):\n",
    "    ll = LinkedList()\n",
    "    for i in range(N):\n",
    "        ll.append(i)\n",
    "    return ll"
   ]
  },
  {
   "cell_type": "code",
   "execution_count": 4,
   "metadata": {},
   "outputs": [],
   "source": [
    "class LinkedItem2:\n",
    "    __slots__ = 'val', 'next'\n",
    "\n",
    "    def __init__(self, val, next):\n",
    "        self.val = val\n",
    "        self.next = next\n",
    "    \n",
    "class LinkedList2:\n",
    "    __slots__ = 'start', 'end'\n",
    "        \n",
    "    def __init__(self, start=None, end=None):\n",
    "        self.start = start\n",
    "        self.end = end\n",
    "\n",
    "    def append(self, val):\n",
    "        link = LinkedItem2(val, None)\n",
    "        if self.start is None:\n",
    "            self.start = link\n",
    "        else:\n",
    "            self.end.next = link\n",
    "        self.end = link\n",
    "\n",
    "    def __iter__(self):\n",
    "        return IterLinkedList2(self)\n",
    "\n",
    "class IterLinkedList2:\n",
    "    __slots__ = 'node',\n",
    "    \n",
    "    def __init__(self, ll):\n",
    "        self.node = ll.start\n",
    "    \n",
    "    def __next__(self):\n",
    "        node =  self.node\n",
    "        if node is None:\n",
    "            raise StopIteration\n",
    "        \n",
    "        val = node.val\n",
    "        self.node = node.next\n",
    "        return val"
   ]
  },
  {
   "cell_type": "code",
   "execution_count": 5,
   "metadata": {},
   "outputs": [],
   "source": [
    "def make_llist2(N):\n",
    "    ll = LinkedList2()\n",
    "    for i in range(N):\n",
    "        ll.append(i)\n",
    "    return ll"
   ]
  },
  {
   "cell_type": "code",
   "execution_count": 6,
   "metadata": {},
   "outputs": [],
   "source": [
    "N = 1000000\n",
    "Mb = 1000000"
   ]
  },
  {
   "cell_type": "code",
   "execution_count": 7,
   "metadata": {
    "tags": []
   },
   "outputs": [
    {
     "name": "stdout",
     "output_type": "stream",
     "text": [
      "CPU times: user 253 ms, sys: 3.95 ms, total: 257 ms\n",
      "Wall time: 256 ms\n",
      "219 ms ± 3.69 ms per loop (mean ± std. dev. of 7 runs, 1 loop each)\n"
     ]
    }
   ],
   "source": [
    "%time ll1 = make_llist(N)\n",
    "%timeit make_llist(N)"
   ]
  },
  {
   "cell_type": "code",
   "execution_count": 8,
   "metadata": {},
   "outputs": [
    {
     "name": "stdout",
     "output_type": "stream",
     "text": [
      "CPU times: user 140 ms, sys: 0 ns, total: 140 ms\n",
      "Wall time: 139 ms\n",
      "123 ms ± 6.52 ms per loop (mean ± std. dev. of 7 runs, 10 loops each)\n",
      "499999500000\n"
     ]
    }
   ],
   "source": [
    "%time s1 = sum(ll1)\n",
    "%timeit sum(ll1)\n",
    "print(s1)"
   ]
  },
  {
   "cell_type": "code",
   "execution_count": 9,
   "metadata": {},
   "outputs": [
    {
     "name": "stdout",
     "output_type": "stream",
     "text": [
      "32 32\n",
      "Memory footprint: 32.00 Мб\n"
     ]
    }
   ],
   "source": [
    "print(sys.getsizeof(ll1.start), sys.getsizeof(ll1))\n",
    "M1 = sys.getsizeof(ll1) + N * sys.getsizeof(ll1.start)\n",
    "print('Memory footprint: %.2f Мб' % (M1/1000000))\n",
    "# del ll1"
   ]
  },
  {
   "cell_type": "code",
   "execution_count": 10,
   "metadata": {},
   "outputs": [
    {
     "name": "stdout",
     "output_type": "stream",
     "text": [
      "CPU times: user 703 ms, sys: 31.7 ms, total: 735 ms\n",
      "Wall time: 733 ms\n",
      "343 ms ± 2.42 ms per loop (mean ± std. dev. of 7 runs, 1 loop each)\n"
     ]
    }
   ],
   "source": [
    "%time ll2 = make_llist2(N)\n",
    "%timeit make_llist2(N)"
   ]
  },
  {
   "cell_type": "code",
   "execution_count": 11,
   "metadata": {},
   "outputs": [
    {
     "name": "stdout",
     "output_type": "stream",
     "text": [
      "CPU times: user 148 ms, sys: 0 ns, total: 148 ms\n",
      "Wall time: 146 ms\n",
      "136 ms ± 282 µs per loop (mean ± std. dev. of 7 runs, 10 loops each)\n",
      "499999500000\n"
     ]
    }
   ],
   "source": [
    "%time s2 = sum(ll2)\n",
    "%timeit sum(ll2)\n",
    "print(s2)"
   ]
  },
  {
   "cell_type": "code",
   "execution_count": 12,
   "metadata": {},
   "outputs": [
    {
     "name": "stdout",
     "output_type": "stream",
     "text": [
      "48 48\n",
      "Memory footprint: 48.00 Мб\n"
     ]
    }
   ],
   "source": [
    "print(sys.getsizeof(ll2.start), sys.getsizeof(ll2))\n",
    "M2 = sys.getsizeof(ll2) + N * sys.getsizeof(ll2.start)\n",
    "print('Memory footprint: %.2f Мб' % (M2/1000000))\n",
    "# del ll2"
   ]
  },
  {
   "cell_type": "code",
   "execution_count": 13,
   "metadata": {},
   "outputs": [
    {
     "name": "stdout",
     "output_type": "stream",
     "text": [
      "66.66666666666667\n"
     ]
    }
   ],
   "source": [
    "print(100*M1/M2)"
   ]
  },
  {
   "cell_type": "code",
   "execution_count": 14,
   "metadata": {},
   "outputs": [],
   "source": [
    "def make_llist3(N):\n",
    "    ll = linkedlist()\n",
    "    for i in range(N):\n",
    "        ll.append(i)\n",
    "    return ll"
   ]
  },
  {
   "cell_type": "code",
   "execution_count": 15,
   "metadata": {},
   "outputs": [
    {
     "name": "stdout",
     "output_type": "stream",
     "text": [
      "CPU times: user 104 ms, sys: 16 ms, total: 120 ms\n",
      "Wall time: 118 ms\n",
      "95.3 ms ± 386 µs per loop (mean ± std. dev. of 7 runs, 10 loops each)\n"
     ]
    }
   ],
   "source": [
    "%time ll3 = make_llist3(N)\n",
    "%timeit make_llist3(N)"
   ]
  },
  {
   "cell_type": "code",
   "execution_count": 16,
   "metadata": {},
   "outputs": [
    {
     "name": "stdout",
     "output_type": "stream",
     "text": [
      "CPU times: user 21.3 ms, sys: 55 µs, total: 21.4 ms\n",
      "Wall time: 21.1 ms\n",
      "10.3 ms ± 153 µs per loop (mean ± std. dev. of 7 runs, 100 loops each)\n",
      "499999500000\n"
     ]
    }
   ],
   "source": [
    "%time s3 = sum(ll3)\n",
    "%timeit sum(ll3)\n",
    "print(s3)"
   ]
  },
  {
   "cell_type": "code",
   "execution_count": 17,
   "metadata": {},
   "outputs": [
    {
     "name": "stdout",
     "output_type": "stream",
     "text": [
      "Memory footprint: 32.00 Мб\n"
     ]
    }
   ],
   "source": [
    "M3 = sys.getsizeof(ll3) + N * sys.getsizeof(ll3.start)\n",
    "print('Memory footprint: %.2f Мб' % (M3/1000000))\n",
    "# del ll3"
   ]
  },
  {
   "cell_type": "markdown",
   "metadata": {},
   "source": [
    "## Double Linked List"
   ]
  },
  {
   "cell_type": "code",
   "execution_count": 18,
   "metadata": {},
   "outputs": [],
   "source": [
    "class DLinkedItem(LinkedItem, fast_new=True):\n",
    "#     val: object\n",
    "#     next: 'DLinkedItem'\n",
    "    prev: 'DLinkedItem'\n",
    "\n",
    "# @clsconfig(deep_dealloc=True)\n",
    "class DLinkedList(LinkedList, deep_dealloc=True):\n",
    "#     start: DLinkedItem = None\n",
    "#     end: DLinkedItem = None\n",
    "        \n",
    "    def append(self, val):\n",
    "        link = DLinkedItem(val, None, None)\n",
    "        if self.start is None:\n",
    "            self.start = link\n",
    "        else:\n",
    "            self.end.next = link\n",
    "        link.prev = self.end\n",
    "        self.end = link\n",
    "\n",
    "    def __iter__(self):\n",
    "        return IterLinkedList(self)\n",
    "\n",
    "class IterLinkedList(dataobject, fast_new=True):\n",
    "    node: DLinkedItem\n",
    "        \n",
    "    def __init__(self, ll):\n",
    "        self.node = ll.start\n",
    "    \n",
    "    def __next__(self):\n",
    "        node =  self.node\n",
    "        if node is None:\n",
    "            raise StopIteration\n",
    "        \n",
    "        val = node.val\n",
    "        self.node = node.next\n",
    "        return val\n"
   ]
  },
  {
   "cell_type": "code",
   "execution_count": 19,
   "metadata": {},
   "outputs": [],
   "source": [
    "def make_dllist(N):\n",
    "    ll = DLinkedList()\n",
    "    for i in range(N):\n",
    "        ll.append(i)\n",
    "    return ll"
   ]
  },
  {
   "cell_type": "code",
   "execution_count": 20,
   "metadata": {},
   "outputs": [],
   "source": [
    "class DLinkedItem2(LinkedItem2):\n",
    "    __slots__ = 'prev',\n",
    "\n",
    "    def __init__(self, val, next, prev):\n",
    "        self.val = val\n",
    "        self.next = next\n",
    "        self.prev = prev\n",
    "    \n",
    "class DLinkedList2:\n",
    "    __slots__ = 'start', 'end'\n",
    "        \n",
    "    def __init__(self, start=None, end=None):\n",
    "        self.start = start\n",
    "        self.end = end\n",
    "\n",
    "    def append(self, val):\n",
    "        link = DLinkedItem2(val, None, None)\n",
    "        if self.start is None:\n",
    "            self.start = link\n",
    "        else:\n",
    "            self.end.next = link\n",
    "        link.prev = self.end\n",
    "        self.end = link\n",
    "\n",
    "    def __iter__(self):\n",
    "        return IterLinkedList2(self)\n",
    "\n",
    "# class DIterLinkedList2:\n",
    "#     __slots__ = 'node',\n",
    "    \n",
    "#     def __init__(self, ll):\n",
    "#         self.node = ll.start\n",
    "    \n",
    "#     def __next__(self):\n",
    "#         node =  self.node\n",
    "#         if node is None:\n",
    "#             raise StopIteration\n",
    "        \n",
    "#         val = node.val\n",
    "#         self.node = node.next\n",
    "#         return val"
   ]
  },
  {
   "cell_type": "code",
   "execution_count": 21,
   "metadata": {},
   "outputs": [],
   "source": [
    "def make_dllist2(N):\n",
    "    ll = DLinkedList2()\n",
    "    for i in range(N):\n",
    "        ll.append(i)\n",
    "    return ll"
   ]
  },
  {
   "cell_type": "code",
   "execution_count": 22,
   "metadata": {
    "tags": []
   },
   "outputs": [
    {
     "name": "stdout",
     "output_type": "stream",
     "text": [
      "CPU times: user 268 ms, sys: 8.14 ms, total: 276 ms\n",
      "Wall time: 276 ms\n",
      "261 ms ± 1.59 ms per loop (mean ± std. dev. of 7 runs, 1 loop each)\n"
     ]
    }
   ],
   "source": [
    "%time dll1 = make_dllist(N)\n",
    "%timeit make_dllist(N)"
   ]
  },
  {
   "cell_type": "code",
   "execution_count": 23,
   "metadata": {},
   "outputs": [
    {
     "name": "stdout",
     "output_type": "stream",
     "text": [
      "CPU times: user 121 ms, sys: 3.77 ms, total: 125 ms\n",
      "Wall time: 123 ms\n",
      "125 ms ± 7.81 ms per loop (mean ± std. dev. of 7 runs, 10 loops each)\n",
      "499999500000\n"
     ]
    }
   ],
   "source": [
    "%time ds1 = sum(dll1)\n",
    "%timeit sum(dll1)\n",
    "print(ds1)"
   ]
  },
  {
   "cell_type": "code",
   "execution_count": 24,
   "metadata": {},
   "outputs": [
    {
     "name": "stdout",
     "output_type": "stream",
     "text": [
      "40 32\n",
      "Memory footprint: 40.00 Мб\n"
     ]
    }
   ],
   "source": [
    "print(sys.getsizeof(dll1.start), sys.getsizeof(dll1))\n",
    "M1 = sys.getsizeof(dll1) + N * sys.getsizeof(dll1.start)\n",
    "print('Memory footprint: %.2f Мб' % (M1/1000000))\n",
    "# del ll1"
   ]
  },
  {
   "cell_type": "code",
   "execution_count": 25,
   "metadata": {},
   "outputs": [
    {
     "name": "stdout",
     "output_type": "stream",
     "text": [
      "CPU times: user 818 ms, sys: 11.9 ms, total: 830 ms\n",
      "Wall time: 829 ms\n",
      "448 ms ± 60.8 ms per loop (mean ± std. dev. of 7 runs, 1 loop each)\n"
     ]
    }
   ],
   "source": [
    "%time dll2 = make_dllist2(N)\n",
    "%timeit make_dllist2(N)"
   ]
  },
  {
   "cell_type": "code",
   "execution_count": 26,
   "metadata": {},
   "outputs": [
    {
     "name": "stdout",
     "output_type": "stream",
     "text": [
      "CPU times: user 152 ms, sys: 121 µs, total: 152 ms\n",
      "Wall time: 150 ms\n",
      "137 ms ± 2.69 ms per loop (mean ± std. dev. of 7 runs, 10 loops each)\n",
      "499999500000\n"
     ]
    }
   ],
   "source": [
    "%time ds2 = sum(dll2)\n",
    "%timeit sum(dll2)\n",
    "print(ds2)"
   ]
  },
  {
   "cell_type": "code",
   "execution_count": 27,
   "metadata": {},
   "outputs": [
    {
     "name": "stdout",
     "output_type": "stream",
     "text": [
      "56 48\n",
      "Memory footprint: 56.00 Мб\n"
     ]
    }
   ],
   "source": [
    "print(sys.getsizeof(dll2.start), sys.getsizeof(dll2))\n",
    "M2 = sys.getsizeof(dll2) + N * sys.getsizeof(dll2.start)\n",
    "print('Memory footprint: %.2f Мб' % (M2/1000000))\n",
    "# del ll2"
   ]
  },
  {
   "cell_type": "code",
   "execution_count": 28,
   "metadata": {},
   "outputs": [
    {
     "name": "stdout",
     "output_type": "stream",
     "text": [
      "71.42856734694227\n"
     ]
    }
   ],
   "source": [
    "print(100*M1/M2)"
   ]
  },
  {
   "cell_type": "code",
   "execution_count": null,
   "metadata": {},
   "outputs": [],
   "source": []
  }
 ],
 "metadata": {
  "kernelspec": {
   "display_name": "Python 3",
   "language": "python",
   "name": "python3"
  },
  "language_info": {
   "codemirror_mode": {
    "name": "ipython",
    "version": 3
   },
   "file_extension": ".py",
   "mimetype": "text/x-python",
   "name": "python",
   "nbconvert_exporter": "python",
   "pygments_lexer": "ipython3",
   "version": "3.9.2"
  }
 },
 "nbformat": 4,
 "nbformat_minor": 4
}
