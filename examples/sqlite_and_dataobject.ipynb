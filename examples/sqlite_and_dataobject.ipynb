{
 "cells": [
  {
   "cell_type": "code",
   "execution_count": 1,
   "metadata": {},
   "outputs": [],
   "source": [
    "import sqlite3\n",
    "from random import random, randint\n",
    "import sys"
   ]
  },
  {
   "cell_type": "code",
   "execution_count": 2,
   "metadata": {},
   "outputs": [],
   "source": [
    "# !rm example.db\n",
    "\n",
    "# N = 10000000\n",
    "# conn = sqlite3.connect('example.db')\n",
    "# c = conn.cursor()\n",
    "# c.execute('''CREATE TABLE test\n",
    "#              (id int, x real, y real, p int, q int)''')\n",
    "# gen = ((i, random(), random(), randint(0,N), randint(0,N)) for i in range(N))\n",
    "# c.executemany(\"INSERT INTO test VALUES (?,?,?,?,?)\", gen)\n",
    "\n",
    "# conn.commit()\n",
    "# conn.close()"
   ]
  },
  {
   "cell_type": "code",
   "execution_count": 3,
   "metadata": {},
   "outputs": [
    {
     "name": "stdout",
     "output_type": "stream",
     "text": [
      "CPU times: user 9.79 s, sys: 704 ms, total: 10.5 s\n",
      "Wall time: 10.5 s\n",
      "800 Mb\n"
     ]
    }
   ],
   "source": [
    "conn = sqlite3.connect('example.db')\n",
    "c = conn.cursor()\n",
    "%time res_raw = [row for row in c.execute(\"SELECT id,x,y,p,q FROM test\")]\n",
    "conn.close()\n",
    "print(sum(sys.getsizeof(r) for r in res_raw) // 1000000, 'Mb')\n",
    "del res_raw"
   ]
  },
  {
   "cell_type": "code",
   "execution_count": 4,
   "metadata": {},
   "outputs": [
    {
     "name": "stdout",
     "output_type": "stream",
     "text": [
      "CPU times: user 11 s, sys: 884 ms, total: 11.9 s\n",
      "Wall time: 11.8 s\n",
      "320 Mb\n"
     ]
    }
   ],
   "source": [
    "conn = sqlite3.connect('example.db')\n",
    "conn.row_factory = sqlite3.Row\n",
    "c = conn.cursor()\n",
    "%time res_raw = [row for row in c.execute(\"SELECT id,x,y,p,q FROM test\")]\n",
    "conn.close()\n",
    "print(sum(sys.getsizeof(r) for r in res_raw) // 1000000, 'Mb')\n",
    "del res_raw"
   ]
  },
  {
   "cell_type": "code",
   "execution_count": 5,
   "metadata": {},
   "outputs": [
    {
     "name": "stdout",
     "output_type": "stream",
     "text": [
      "CPU times: user 17.8 s, sys: 760 ms, total: 18.5 s\n",
      "Wall time: 18.5 s\n",
      "720 Mb\n"
     ]
    }
   ],
   "source": [
    "class RowSlot:\n",
    "    __slots__ = 'id', 'x', 'y', 'p', 'q'\n",
    "    def __init__(self, id, x, y, p, q):\n",
    "        self.id = id\n",
    "        self.x = x\n",
    "        self.y = y\n",
    "        self.p = p\n",
    "        self.q = q\n",
    "\n",
    "conn = sqlite3.connect('example.db')\n",
    "c = conn.cursor()\n",
    "%time res_slots = [RowSlot(*row) for row in c.execute(\"SELECT id,x,y,p,q FROM test\")]\n",
    "conn.close()\n",
    "print(sum(sys.getsizeof(r) for r in res_slots) // 1000000, 'Mb')\n",
    "del res_slots"
   ]
  },
  {
   "cell_type": "code",
   "execution_count": 10,
   "metadata": {},
   "outputs": [
    {
     "name": "stdout",
     "output_type": "stream",
     "text": [
      "CPU times: user 9.97 s, sys: 740 ms, total: 10.7 s\n",
      "Wall time: 10.7 s\n",
      "560 Mb\n"
     ]
    }
   ],
   "source": [
    "from recordclass import make_dataclass\n",
    "\n",
    "Row = make_dataclass(\"Row\", \"id x y p q\", fast_new=True)\n",
    "conn = sqlite3.connect('example.db')\n",
    "c = conn.cursor()\n",
    "%time res = [Row(*row) for row in c.execute(\"SELECT id,x,y,p,q FROM test\")]\n",
    "conn.close()\n",
    "print(sum(sys.getsizeof(r) for r in res) // 1000000, 'Mb')\n",
    "del res"
   ]
  },
  {
   "cell_type": "code",
   "execution_count": 7,
   "metadata": {},
   "outputs": [
    {
     "data": {
      "text/plain": [
       "Row(id=1, x=1.0, y=2.0, p=3, q=4)"
      ]
     },
     "execution_count": 7,
     "metadata": {},
     "output_type": "execute_result"
    }
   ],
   "source": [
    "Row(*[1, 1., 2., 3, 4])"
   ]
  },
  {
   "cell_type": "code",
   "execution_count": 8,
   "metadata": {},
   "outputs": [],
   "source": [
    "Empty = make_dataclass(\"Empty\", (), fast_new=True)\n"
   ]
  },
  {
   "cell_type": "code",
   "execution_count": 9,
   "metadata": {},
   "outputs": [
    {
     "data": {
      "text/plain": [
       "Empty()"
      ]
     },
     "execution_count": 9,
     "metadata": {},
     "output_type": "execute_result"
    }
   ],
   "source": [
    "Empty()"
   ]
  },
  {
   "cell_type": "code",
   "execution_count": null,
   "metadata": {},
   "outputs": [],
   "source": []
  }
 ],
 "metadata": {
  "kernelspec": {
   "display_name": "Python 3",
   "language": "python",
   "name": "python3"
  },
  "language_info": {
   "codemirror_mode": {
    "name": "ipython",
    "version": 3
   },
   "file_extension": ".py",
   "mimetype": "text/x-python",
   "name": "python",
   "nbconvert_exporter": "python",
   "pygments_lexer": "ipython3",
   "version": "3.9.2"
  }
 },
 "nbformat": 4,
 "nbformat_minor": 4
}
