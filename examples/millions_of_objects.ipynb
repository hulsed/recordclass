{
 "cells": [
  {
   "cell_type": "code",
   "execution_count": 1,
   "metadata": {},
   "outputs": [],
   "source": [
    "from recordclass import dataobject"
   ]
  },
  {
   "cell_type": "code",
   "execution_count": 2,
   "metadata": {},
   "outputs": [
    {
     "name": "stdout",
     "output_type": "stream",
     "text": [
      "CPU times: user 1.87 s, sys: 80 ms, total: 1.95 s\n",
      "Wall time: 1.95 s\n",
      "CPU times: user 2.28 s, sys: 176 ms, total: 2.46 s\n",
      "Wall time: 2.46 s\n",
      "CPU times: user 10.6 s, sys: 204 ms, total: 10.8 s\n",
      "Wall time: 10.8 s\n",
      "size (dataobject): 400000000\n",
      "size (__slots__):  720000000\n",
      "55.55555555555556 %\n"
     ]
    }
   ],
   "source": [
    "from random import randrange\n",
    "import sys\n",
    "ijw = [(randrange(100), randrange(100), randrange(1000)) for _ in range(10 ** 7)]\n",
    "\n",
    "class EdgeDO(dataobject):\n",
    "    __fields__ = 'node1', 'node2', 'weight'\n",
    "\n",
    "class EdgeSlots:\n",
    "    __slots__ = 'node1', 'node2', 'weight'\n",
    "\n",
    "    def __init__(self, node1, node2, weight):\n",
    "         self.node1 = node1\n",
    "         self.node2 = node2\n",
    "         self.weight = weight\n",
    "            \n",
    "def list_size(lst):\n",
    "    return sum(sys.getsizeof(o) for o in lst)\n",
    "\n",
    "%time list_do = [EdgeDO(*args) for args in ijw]\n",
    "%time list_do = [EdgeDO(n1, n2, w) for n1, n2, w in ijw]\n",
    "%time list_slots = [EdgeSlots(n1, n2, w) for n1, n2, w in ijw]\n",
    "\n",
    "print('size (dataobject):', list_size(list_do))\n",
    "print('size (__slots__): ', list_size(list_slots))\n",
    "print(list_size(list_do)/list_size(list_slots)*100, \"%\")\n"
   ]
  },
  {
   "cell_type": "code",
   "execution_count": null,
   "metadata": {},
   "outputs": [],
   "source": []
  }
 ],
 "metadata": {
  "kernelspec": {
   "display_name": "Python 3",
   "language": "python",
   "name": "python3"
  },
  "language_info": {
   "codemirror_mode": {
    "name": "ipython",
    "version": 3
   },
   "file_extension": ".py",
   "mimetype": "text/x-python",
   "name": "python",
   "nbconvert_exporter": "python",
   "pygments_lexer": "ipython3",
   "version": "3.7.4"
  }
 },
 "nbformat": 4,
 "nbformat_minor": 4
}
