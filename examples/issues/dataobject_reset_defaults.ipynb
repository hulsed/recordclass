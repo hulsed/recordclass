{
 "cells": [
  {
   "cell_type": "code",
   "execution_count": null,
   "id": "7dc7ac70-f2f9-4a22-95ff-cf3b574c2d1f",
   "metadata": {},
   "outputs": [],
   "source": [
    "def reset(o, name):\n",
    "    from recordclass._dataobject import Factory\n",
    "\n",
    "    copy_default = o.__options__['copy_default']\n",
    "    val = o.__defaults__[name]\n",
    "    if val is not None:\n",
    "        if type(val) is Factory:\n",
    "            val = Factory(val)\n",
    "        elif copy_default:\n",
    "            if isinstance(val, list):\n",
    "                val = val[:]\n",
    "            elif isinstance(val, (dict, set)):\n",
    "                val = val.copy()\n",
    "            elif hasattr(o, '__copy__'):\n",
    "                val = val.__copy__():\n",
    "            \n",
    "    setattr(o, name, val)\n"
   ]
  }
 ],
 "metadata": {
  "kernelspec": {
   "display_name": "Python 3 (ipykernel)",
   "language": "python",
   "name": "python3"
  },
  "language_info": {
   "codemirror_mode": {
    "name": "ipython",
    "version": 3
   },
   "file_extension": ".py",
   "mimetype": "text/x-python",
   "name": "python",
   "nbconvert_exporter": "python",
   "pygments_lexer": "ipython3",
   "version": "3.11.2"
  }
 },
 "nbformat": 4,
 "nbformat_minor": 5
}
