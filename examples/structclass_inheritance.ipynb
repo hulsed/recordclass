{
 "cells": [
  {
   "cell_type": "code",
   "execution_count": 1,
   "metadata": {},
   "outputs": [],
   "source": [
    "from recordclass import structclass\n",
    "from sys import getsizeof as sizeof"
   ]
  },
  {
   "cell_type": "code",
   "execution_count": 2,
   "metadata": {},
   "outputs": [
    {
     "data": {
      "text/plain": [
       "48"
      ]
     },
     "execution_count": 2,
     "metadata": {},
     "output_type": "execute_result"
    }
   ],
   "source": [
    "Point3d = structclass('Point3d', 'x y z axes', defaults=('polar',))\n",
    "sizeof(Point3d(1,2,3))"
   ]
  },
  {
   "cell_type": "code",
   "execution_count": 4,
   "metadata": {},
   "outputs": [
    {
     "data": {
      "text/plain": [
       "72"
      ]
     },
     "execution_count": 4,
     "metadata": {},
     "output_type": "execute_result"
    }
   ],
   "source": [
    "Point3d_gc = structclass('Point3d', 'x y z axes', defaults=('polar',), gc=True)\n",
    "sizeof(Point3d_gc(1,2,3))"
   ]
  },
  {
   "cell_type": "code",
   "execution_count": 5,
   "metadata": {},
   "outputs": [
    {
     "name": "stdout",
     "output_type": "stream",
     "text": [
      "72\n"
     ]
    }
   ],
   "source": [
    "class Point3d_slots:\n",
    "    __slots__ = ('x','y','z','axes')\n",
    "    def __init__(self, x, y, z, axes='polar'):\n",
    "        self.x = x\n",
    "        self.y = y\n",
    "        self.z = z\n",
    "        self.axes = axes\n",
    "        \n",
    "print(sizeof(Point3d_slots(1,2,3)))"
   ]
  },
  {
   "cell_type": "code",
   "execution_count": 6,
   "metadata": {},
   "outputs": [],
   "source": [
    "A = structclass('A', 'a b c', usedict=True)"
   ]
  },
  {
   "cell_type": "code",
   "execution_count": 7,
   "metadata": {},
   "outputs": [
    {
     "name": "stdout",
     "output_type": "stream",
     "text": [
      "48\n",
      "48\n"
     ]
    }
   ],
   "source": [
    "a1 = A(1,2,3)\n",
    "print(sizeof(a1))\n",
    "a2 = A(1,2,3,d=3)\n",
    "print(sizeof(a2))"
   ]
  },
  {
   "cell_type": "code",
   "execution_count": 8,
   "metadata": {},
   "outputs": [
    {
     "name": "stdout",
     "output_type": "stream",
     "text": [
      "A(a=1, b=2, c=3)\n",
      "A(a=1, b=2, c=3, **{'d': 3})\n"
     ]
    }
   ],
   "source": [
    "print(a1)\n",
    "print(a2)"
   ]
  },
  {
   "cell_type": "code",
   "execution_count": 9,
   "metadata": {},
   "outputs": [
    {
     "name": "stdout",
     "output_type": "stream",
     "text": [
      "32 40 {}\n"
     ]
    }
   ],
   "source": [
    "A1 = structclass('A1', 'a b')\n",
    "class B1(A1):\n",
    "    pass\n",
    "\n",
    "a1 = A1(1,2)\n",
    "b1 = B1(1,2)\n",
    "print(sizeof(a1), sizeof(b1), b1.__dict__)"
   ]
  },
  {
   "cell_type": "code",
   "execution_count": 10,
   "metadata": {},
   "outputs": [
    {
     "name": "stdout",
     "output_type": "stream",
     "text": [
      "A1(a=1, b=2) 32\n",
      "A2(c=3, d=4) 32\n"
     ]
    }
   ],
   "source": [
    "A1 = structclass('A1', 'a b')\n",
    "A2 = structclass('A2', 'c d')\n",
    "\n",
    "a1 = A1(1,2)\n",
    "print(a1, sizeof(a1))\n",
    "a2 = A2(3,4)\n",
    "print(a2, sizeof(a2))\n"
   ]
  },
  {
   "cell_type": "code",
   "execution_count": 11,
   "metadata": {},
   "outputs": [],
   "source": [
    "from recordclass import join_classes"
   ]
  },
  {
   "cell_type": "code",
   "execution_count": 12,
   "metadata": {},
   "outputs": [
    {
     "name": "stdout",
     "output_type": "stream",
     "text": [
      "A(a=1, b=2, c=3, d=4) 48\n"
     ]
    }
   ],
   "source": [
    "A=join_classes('A', (A1, A2))\n",
    "a = A(1,2,3,4)\n",
    "print(a, sizeof(a))\n"
   ]
  },
  {
   "cell_type": "code",
   "execution_count": 13,
   "metadata": {},
   "outputs": [
    {
     "name": "stdout",
     "output_type": "stream",
     "text": [
      "C(a=1, b=2, c=3, d=4) 56 {}\n"
     ]
    }
   ],
   "source": [
    "class B:\n",
    "    pass\n",
    "\n",
    "class C(A,B):\n",
    "    pass\n",
    "\n",
    "c = C(1,2,3,4)\n",
    "print(c, sizeof(c), c.__dict__)\n"
   ]
  },
  {
   "cell_type": "code",
   "execution_count": null,
   "metadata": {},
   "outputs": [],
   "source": []
  }
 ],
 "metadata": {
  "kernelspec": {
   "display_name": "Python 3",
   "language": "python",
   "name": "python3"
  },
  "language_info": {
   "codemirror_mode": {
    "name": "ipython",
    "version": 3
   },
   "file_extension": ".py",
   "mimetype": "text/x-python",
   "name": "python",
   "nbconvert_exporter": "python",
   "pygments_lexer": "ipython3",
   "version": "3.7.2"
  }
 },
 "nbformat": 4,
 "nbformat_minor": 2
}
