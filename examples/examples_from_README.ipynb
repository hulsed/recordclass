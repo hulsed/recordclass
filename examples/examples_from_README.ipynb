{
 "cells": [
  {
   "cell_type": "code",
   "execution_count": 6,
   "metadata": {},
   "outputs": [],
   "source": [
    "from recordclass import recordclass, RecordClass\n",
    "import sys"
   ]
  },
  {
   "cell_type": "code",
   "execution_count": 4,
   "metadata": {},
   "outputs": [
    {
     "name": "stdout",
     "output_type": "stream",
     "text": [
      "Point(x=1, y=2)\n",
      "1 2\n",
      "Point(x=10, y=20)\n",
      "40\n"
     ]
    }
   ],
   "source": [
    "Point = recordclass('Point', 'x y')\n",
    "p = Point(1,2)\n",
    "print(p)\n",
    "print(p.x, p.y)\n",
    "p.x, p.y = 10, 20\n",
    "print(p)\n",
    "print(sys.getsizeof(p))"
   ]
  },
  {
   "cell_type": "code",
   "execution_count": 8,
   "metadata": {},
   "outputs": [
    {
     "name": "stdout",
     "output_type": "stream",
     "text": [
      "{'x': <class 'int'>, 'y': <class 'int'>}\n",
      "Point(x=1, y=2)\n",
      "1 2\n",
      "Point(x=10, y=20)\n",
      "40\n"
     ]
    }
   ],
   "source": [
    "class Point(RecordClass):\n",
    "       x: int\n",
    "       y: int\n",
    "        \n",
    "print(Point.__annotations__)\n",
    "p = Point(1,2)\n",
    "print(p)\n",
    "print(p.x, p.y)\n",
    "p.x, p.y = 10, 20\n",
    "print(p)\n",
    "print(sys.getsizeof(p))"
   ]
  },
  {
   "cell_type": "code",
   "execution_count": null,
   "metadata": {},
   "outputs": [],
   "source": []
  }
 ],
 "metadata": {
  "kernelspec": {
   "display_name": "Python 3",
   "language": "python",
   "name": "python3"
  },
  "language_info": {
   "codemirror_mode": {
    "name": "ipython",
    "version": 3
   },
   "file_extension": ".py",
   "mimetype": "text/x-python",
   "name": "python",
   "nbconvert_exporter": "python",
   "pygments_lexer": "ipython3",
   "version": "3.7.6"
  }
 },
 "nbformat": 4,
 "nbformat_minor": 4
}
