{
 "cells": [
  {
   "cell_type": "code",
   "execution_count": 7,
   "metadata": {},
   "outputs": [
    {
     "name": "stdout",
     "output_type": "stream",
     "text": [
      "(1.0) (1.0) (1.0)\n",
      "standard class:\n",
      "483 ns ± 4.15 ns per loop (mean ± std. dev. of 7 runs, 1000000 loops each)\n",
      "slot class:\n",
      "392 ns ± 13.7 ns per loop (mean ± std. dev. of 7 runs, 1000000 loops each)\n",
      "new_dataclass:\n",
      "505 ns ± 7.83 ns per loop (mean ± std. dev. of 7 runs, 1000000 loops each)\n",
      "dataobject_class:\n",
      "183 ns ± 0.859 ns per loop (mean ± std. dev. of 7 runs, 10000000 loops each)\n"
     ]
    }
   ],
   "source": [
    "from dataclasses import dataclass\n",
    "from recordclass import dataobject\n",
    "from timeit import timeit\n",
    "\n",
    "def  _str(n): return f'({n.x})'\n",
    "\n",
    "class standard_class:\n",
    "    def __init__(self, x=0.0):\n",
    "        self.x = x\n",
    "    def __str__(self): return _str(self)\n",
    "\n",
    "class slot_class:\n",
    "    __slots__ = 'x',\n",
    "    def __init__(self, x=0):\n",
    "        self.x =x\n",
    "    def __str__(self): return _str(self)\n",
    "\n",
    "@dataclass\n",
    "class new_dataclass:\n",
    "    x: float = 0.0\n",
    "    def __str__(self): return _str(self)\n",
    "\n",
    "class dataobject_class(dataobject):\n",
    "    x: float\n",
    "    __options__ = {'argsonly':True}\n",
    "    def __str__(self): return _str(self)\n",
    "\n",
    "sc = standard_class(1.0)\n",
    "sl = slot_class(1.0)\n",
    "dc = new_dataclass(1.0)\n",
    "print(sc,sl,dc)\n",
    "\n",
    "print('standard class:')\n",
    "%timeit standard_class(1.0)\n",
    "print('slot class:')\n",
    "%timeit slot_class(1.0)\n",
    "print('new_dataclass:')\n",
    "%timeit new_dataclass(1.0)\n",
    "print('dataobject_class:')\n",
    "%timeit dataobject_class(1.0)\n"
   ]
  },
  {
   "cell_type": "code",
   "execution_count": null,
   "metadata": {},
   "outputs": [],
   "source": []
  }
 ],
 "metadata": {
  "kernelspec": {
   "display_name": "Python 3",
   "language": "python",
   "name": "python3"
  },
  "language_info": {
   "codemirror_mode": {
    "name": "ipython",
    "version": 3
   },
   "file_extension": ".py",
   "mimetype": "text/x-python",
   "name": "python",
   "nbconvert_exporter": "python",
   "pygments_lexer": "ipython3",
   "version": "3.7.2"
  }
 },
 "nbformat": 4,
 "nbformat_minor": 2
}
