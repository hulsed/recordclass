{
 "cells": [
  {
   "cell_type": "code",
   "execution_count": 1,
   "metadata": {},
   "outputs": [],
   "source": [
    "from recordclass import dataobject, make_dataclass, enable_gc, litelist\n"
   ]
  },
  {
   "cell_type": "code",
   "execution_count": 2,
   "metadata": {},
   "outputs": [],
   "source": [
    "from random import randint\n",
    "import tracemalloc\n",
    "class Tracer:\n",
    "    def __enter__(self):\n",
    "        if tracemalloc.is_tracing():\n",
    "            raise ValueError('nesting tracemalloc is not allowed')\n",
    "        self.allocated = None\n",
    "        tracemalloc.start()\n",
    "        return self\n",
    "    def __exit__(self, exc_type, exc_value, exc_traceback):\n",
    "        current, peak = tracemalloc.get_traced_memory()\n",
    "        tracemalloc.stop()\n",
    "        self.allocated = current"
   ]
  },
  {
   "cell_type": "code",
   "execution_count": 3,
   "metadata": {},
   "outputs": [
    {
     "name": "stdout",
     "output_type": "stream",
     "text": [
      "4.194304 млн.\n"
     ]
    }
   ],
   "source": [
    "N = 22\n",
    "print(2**N/1000000, \"млн.\")"
   ]
  },
  {
   "cell_type": "markdown",
   "metadata": {},
   "source": [
    "### Binary Tree"
   ]
  },
  {
   "cell_type": "code",
   "execution_count": 4,
   "metadata": {},
   "outputs": [
    {
     "name": "stdout",
     "output_type": "stream",
     "text": [
      "2 <class '__main__.Tree'>\n",
      "2 <class '__main__.Node'>\n",
      "2 <class '__main__.Leaf'>\n"
     ]
    }
   ],
   "source": [
    "class Tree(dataobject):\n",
    "   __fields__ = 'root',\n",
    "\n",
    "class Node(dataobject): \n",
    "    __fields__ = 'left', 'right'\n",
    "\n",
    "class Leaf(dataobject):\n",
    "    __fields__ = 'value',"
   ]
  },
  {
   "cell_type": "code",
   "execution_count": 5,
   "metadata": {},
   "outputs": [],
   "source": [
    "def add_nodes(depth):\n",
    "    if depth == 0:\n",
    "        return Leaf(randint(0,10))\n",
    "    return Node(add_nodes(depth-1), add_nodes(depth-1))"
   ]
  },
  {
   "cell_type": "code",
   "execution_count": 7,
   "metadata": {},
   "outputs": [
    {
     "name": "stdout",
     "output_type": "stream",
     "text": [
      "2 <class '__main__.TreeGC'>\n",
      "2 <class '__main__.NodeGC'>\n",
      "2 <class '__main__.LeafGC'>\n"
     ]
    }
   ],
   "source": [
    "@enable_gc()\n",
    "class TreeGC(dataobject):\n",
    "   __fields__ = 'root',\n",
    "\n",
    "@enable_gc()\n",
    "class NodeGC(dataobject): \n",
    "    __fields__ = 'left', 'right'\n",
    "\n",
    "@enable_gc()\n",
    "class LeafGC(dataobject):\n",
    "    __fields__ = 'value',"
   ]
  },
  {
   "cell_type": "code",
   "execution_count": 8,
   "metadata": {},
   "outputs": [],
   "source": [
    "def add_nodes_gc(depth):\n",
    "    if depth == 0:\n",
    "        return LeafGC(randint(0,10))\n",
    "    return NodeGC(add_nodes_gc(depth-1), add_nodes_gc(depth-1))"
   ]
  },
  {
   "cell_type": "code",
   "execution_count": 9,
   "metadata": {},
   "outputs": [],
   "source": [
    "class TreeSlots:\n",
    "    __slots__ = 'root',\n",
    "    def __init__(self, root):\n",
    "        self.root = root\n",
    "\n",
    "class NodeSlots:\n",
    "    __slots__ = 'left', 'right'\n",
    "    def __init__(self, left, right):\n",
    "        self.left = left\n",
    "        self.right = right\n",
    "    \n",
    "class LeafSlots:\n",
    "    __slots__ = 'value',\n",
    "    def __init__(self, value):\n",
    "        self.value = value"
   ]
  },
  {
   "cell_type": "code",
   "execution_count": 10,
   "metadata": {},
   "outputs": [],
   "source": [
    "def add_nodes_slots(depth):\n",
    "    if depth == 0:\n",
    "        return LeafSlots(randint(0,10))\n",
    "    return NodeSlots(add_nodes_slots(depth-1), add_nodes_slots(depth-1))"
   ]
  },
  {
   "cell_type": "code",
   "execution_count": 11,
   "metadata": {},
   "outputs": [
    {
     "name": "stdout",
     "output_type": "stream",
     "text": [
      "dataobject: 234 Mb\n"
     ]
    }
   ],
   "source": [
    "with Tracer() as t1:\n",
    "   tree = Tree(add_nodes(N))\n",
    "print(\"dataobject:\", t1.allocated // 1_000_000, 'Mb')\n",
    "del tree, t1"
   ]
  },
  {
   "cell_type": "code",
   "execution_count": 12,
   "metadata": {},
   "outputs": [
    {
     "name": "stdout",
     "output_type": "stream",
     "text": [
      "CPU times: user 5.78 s, sys: 67.9 ms, total: 5.85 s\n",
      "Wall time: 5.84 s\n",
      "CPU times: user 155 ms, sys: 16 ms, total: 171 ms\n",
      "Wall time: 170 ms\n"
     ]
    }
   ],
   "source": [
    "%time tree = Tree(add_nodes(N))\n",
    "%time del tree"
   ]
  },
  {
   "cell_type": "code",
   "execution_count": 13,
   "metadata": {},
   "outputs": [
    {
     "name": "stdout",
     "output_type": "stream",
     "text": [
      "__slots__: 503 Mb\n"
     ]
    }
   ],
   "source": [
    "with Tracer() as t2:\n",
    "   tree_slots = TreeSlots(add_nodes_slots(N))\n",
    "print(\"__slots__:\", t2.allocated // 1_000_000, 'Mb')\n",
    "del tree_slots, t2"
   ]
  },
  {
   "cell_type": "code",
   "execution_count": 14,
   "metadata": {},
   "outputs": [
    {
     "name": "stdout",
     "output_type": "stream",
     "text": [
      "CPU times: user 16.3 s, sys: 216 ms, total: 16.5 s\n",
      "Wall time: 16.5 s\n",
      "CPU times: user 294 ms, sys: 48.1 ms, total: 342 ms\n",
      "Wall time: 341 ms\n"
     ]
    }
   ],
   "source": [
    "%time tree_slots = TreeSlots(add_nodes_slots(N))\n",
    "%time del tree_slots"
   ]
  },
  {
   "cell_type": "code",
   "execution_count": 15,
   "metadata": {},
   "outputs": [
    {
     "name": "stdout",
     "output_type": "stream",
     "text": [
      "dataobject+gc: 503 Mb\n"
     ]
    }
   ],
   "source": [
    "with Tracer() as t3:\n",
    "   tree_gc = TreeGC(add_nodes_gc(N))\n",
    "print(\"dataobject+gc:\", t3.allocated // 1000000, 'Mb')\n",
    "del tree_gc, t3"
   ]
  },
  {
   "cell_type": "code",
   "execution_count": 16,
   "metadata": {},
   "outputs": [
    {
     "name": "stdout",
     "output_type": "stream",
     "text": [
      "CPU times: user 15.9 s, sys: 128 ms, total: 16 s\n",
      "Wall time: 16 s\n",
      "CPU times: user 160 ms, sys: 24 ms, total: 184 ms\n",
      "Wall time: 184 ms\n"
     ]
    }
   ],
   "source": [
    "%time tree_gc = TreeGC(add_nodes_gc(N))\n",
    "%time del tree_gc"
   ]
  },
  {
   "cell_type": "code",
   "execution_count": 17,
   "metadata": {},
   "outputs": [
    {
     "name": "stdout",
     "output_type": "stream",
     "text": [
      "Size per instance:\n",
      "   node: 32 64 64\n",
      "   leaf: 24 56 56\n"
     ]
    }
   ],
   "source": [
    "import sys\n",
    "print('Size per instance:')\n",
    "print('   node:', sys.getsizeof(Node(None,None)),\n",
    "                  sys.getsizeof(NodeSlots(None,None)), \n",
    "                  sys.getsizeof(NodeGC(None,None)))\n",
    "print('   leaf:', sys.getsizeof(Leaf(None)),\n",
    "                  sys.getsizeof(LeafSlots(None)),\n",
    "                  sys.getsizeof(LeafGC(None)))"
   ]
  },
  {
   "cell_type": "markdown",
   "metadata": {},
   "source": [
    "### General Tree"
   ]
  },
  {
   "cell_type": "code",
   "execution_count": 18,
   "metadata": {},
   "outputs": [
    {
     "name": "stdout",
     "output_type": "stream",
     "text": [
      "2 <class '__main__.GTree'>\n",
      "2 <class '__main__.GNode'>\n",
      "2 <class '__main__.GLeaf'>\n"
     ]
    }
   ],
   "source": [
    "class GTree(dataobject):\n",
    "   __fields__ = 'root',\n",
    "\n",
    "class GNode(dataobject): \n",
    "    __fields__ = 'children',\n",
    "\n",
    "class GLeaf(dataobject):\n",
    "    __fields__ = 'value',"
   ]
  },
  {
   "cell_type": "code",
   "execution_count": 19,
   "metadata": {},
   "outputs": [],
   "source": [
    "def add_gnodes(depth):\n",
    "    if depth == 0:\n",
    "        return GLeaf(randint(0,10))\n",
    "    children = litelist([])\n",
    "    gnode = GNode(children)\n",
    "    children.append(add_gnodes(depth-1))\n",
    "    children.append(add_gnodes(depth-1))\n",
    "    children.trim()\n",
    "    return gnode"
   ]
  },
  {
   "cell_type": "code",
   "execution_count": 20,
   "metadata": {},
   "outputs": [
    {
     "name": "stdout",
     "output_type": "stream",
     "text": [
      "dataobject: 117 Mb\n"
     ]
    }
   ],
   "source": [
    "with Tracer() as gt1:\n",
    "   gtree = GTree(add_gnodes(20))\n",
    "print(\"dataobject:\", gt1.allocated // 1000000, 'Mb')\n",
    "del gtree, gt1"
   ]
  },
  {
   "cell_type": "code",
   "execution_count": 21,
   "metadata": {},
   "outputs": [
    {
     "name": "stdout",
     "output_type": "stream",
     "text": [
      "CPU times: user 1.67 s, sys: 48 ms, total: 1.71 s\n",
      "Wall time: 1.71 s\n"
     ]
    }
   ],
   "source": [
    "%time gtree = GTree(add_gnodes(20))\n",
    "del gtree"
   ]
  },
  {
   "cell_type": "code",
   "execution_count": 22,
   "metadata": {},
   "outputs": [],
   "source": [
    "class GTreeSlots:\n",
    "    __slots__ = 'root',\n",
    "    def __init__(self, root):\n",
    "        self.root = root\n",
    "\n",
    "class GNodeSlots:\n",
    "    __slots__ = 'children', \n",
    "    def __init__(self, children):\n",
    "        self.children = children\n",
    "    \n",
    "class GLeafSlots:\n",
    "    __slots__ = 'value',\n",
    "    def __init__(self, value):\n",
    "        self.value = value"
   ]
  },
  {
   "cell_type": "code",
   "execution_count": 23,
   "metadata": {},
   "outputs": [],
   "source": [
    "def add_gnodes_slots(depth):\n",
    "    if depth == 0:\n",
    "        return GLeafSlots(randint(0,10))\n",
    "    children = []\n",
    "    gnode = GNodeSlots(children)\n",
    "    children.append(add_gnodes_slots(depth-1))\n",
    "    children.append(add_gnodes_slots(depth-1))\n",
    "    return gnode"
   ]
  },
  {
   "cell_type": "code",
   "execution_count": 24,
   "metadata": {},
   "outputs": [
    {
     "name": "stdout",
     "output_type": "stream",
     "text": [
      "__slots__: 226 Mb\n"
     ]
    }
   ],
   "source": [
    "with Tracer() as gt2:\n",
    "   gtree_slots = GTreeSlots(add_gnodes_slots(20))\n",
    "print(\"__slots__:\", gt2.allocated // 1000000, 'Mb')\n",
    "del gtree_slots, gt2"
   ]
  },
  {
   "cell_type": "code",
   "execution_count": 25,
   "metadata": {},
   "outputs": [
    {
     "name": "stdout",
     "output_type": "stream",
     "text": [
      "CPU times: user 5.73 s, sys: 56 ms, total: 5.79 s\n",
      "Wall time: 5.79 s\n"
     ]
    }
   ],
   "source": [
    "%time gtree_slots = GTreeSlots(add_gnodes_slots(20))\n",
    "del gtree_slots"
   ]
  },
  {
   "cell_type": "code",
   "execution_count": null,
   "metadata": {},
   "outputs": [],
   "source": []
  }
 ],
 "metadata": {
  "kernelspec": {
   "display_name": "Python 3",
   "language": "python",
   "name": "python3"
  },
  "language_info": {
   "codemirror_mode": {
    "name": "ipython",
    "version": 3
   },
   "file_extension": ".py",
   "mimetype": "text/x-python",
   "name": "python",
   "nbconvert_exporter": "python",
   "pygments_lexer": "ipython3",
   "version": "3.7.6"
  }
 },
 "nbformat": 4,
 "nbformat_minor": 4
}
