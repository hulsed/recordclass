{
 "cells": [
  {
   "cell_type": "code",
   "execution_count": 14,
   "metadata": {},
   "outputs": [],
   "source": [
    "from recordclass import dataobject, make_dataclass, enable_gc, litelist\n",
    "from random import randint"
   ]
  },
  {
   "cell_type": "code",
   "execution_count": 15,
   "metadata": {},
   "outputs": [],
   "source": [
    "import tracemalloc\n",
    "class Tracer:\n",
    "    def __enter__(self):\n",
    "        if tracemalloc.is_tracing():\n",
    "            raise ValueError('nesting tracemalloc is not allowed')\n",
    "        self.allocated = None\n",
    "        tracemalloc.start()\n",
    "        return self\n",
    "    def __exit__(self, exc_type, exc_value, exc_traceback):\n",
    "        current, peak = tracemalloc.get_traced_memory()\n",
    "        tracemalloc.stop()\n",
    "        self.allocated = current"
   ]
  },
  {
   "cell_type": "code",
   "execution_count": 16,
   "metadata": {},
   "outputs": [
    {
     "name": "stdout",
     "output_type": "stream",
     "text": [
      "16.777216 млн.\n"
     ]
    }
   ],
   "source": [
    "N = 24\n",
    "print(2**N/1000000, \"млн.\")"
   ]
  },
  {
   "cell_type": "markdown",
   "metadata": {},
   "source": [
    "### Binary Tree"
   ]
  },
  {
   "cell_type": "code",
   "execution_count": 17,
   "metadata": {},
   "outputs": [],
   "source": [
    "class Tree(dataobject):\n",
    "   __fields__ = 'root',\n",
    "\n",
    "class Node(dataobject): \n",
    "    __fields__ = 'left', 'right'\n",
    "\n",
    "class Leaf(dataobject):\n",
    "    __fields__ = 'value',"
   ]
  },
  {
   "cell_type": "code",
   "execution_count": 24,
   "metadata": {},
   "outputs": [],
   "source": [
    "def add_nodes(depth):\n",
    "    if depth == 0:\n",
    "        return Leaf(randint(0,10))\n",
    "    return Node(add_nodes(depth-1), add_nodes(depth-1))"
   ]
  },
  {
   "cell_type": "code",
   "execution_count": 19,
   "metadata": {},
   "outputs": [],
   "source": [
    "@enable_gc\n",
    "class TreeGC(dataobject):\n",
    "   __fields__ = 'root',\n",
    "\n",
    "@enable_gc\n",
    "class NodeGC(dataobject): \n",
    "    __fields__ = 'left', 'right'\n",
    "\n",
    "@enable_gc\n",
    "class LeafGC(dataobject):\n",
    "    __fields__ = 'value',"
   ]
  },
  {
   "cell_type": "code",
   "execution_count": 25,
   "metadata": {},
   "outputs": [],
   "source": [
    "def add_nodes_gc(depth):\n",
    "    if depth == 0:\n",
    "        return LeafGC(randint(0,10))\n",
    "    return NodeGC(add_nodes_gc(depth-1), add_nodes_gc(depth-1))"
   ]
  },
  {
   "cell_type": "code",
   "execution_count": 26,
   "metadata": {},
   "outputs": [],
   "source": [
    "class TreeSlots:\n",
    "    __slots__ = 'root',\n",
    "    def __init__(self, root):\n",
    "        self.root = root\n",
    "\n",
    "class NodeSlots:\n",
    "    __slots__ = 'left', 'right'\n",
    "    def __init__(self, left, right):\n",
    "        self.left = left\n",
    "        self.right = right\n",
    "    \n",
    "class LeafSlots:\n",
    "    __slots__ = 'value',\n",
    "    def __init__(self, value):\n",
    "        self.value = value"
   ]
  },
  {
   "cell_type": "code",
   "execution_count": 27,
   "metadata": {},
   "outputs": [],
   "source": [
    "def add_nodes_slots(depth):\n",
    "    if depth == 0:\n",
    "        return LeafSlots(randint(0,10))\n",
    "    return NodeSlots(add_nodes_slots(depth-1), add_nodes_slots(depth-1))"
   ]
  },
  {
   "cell_type": "code",
   "execution_count": 28,
   "metadata": {},
   "outputs": [
    {
     "name": "stdout",
     "output_type": "stream",
     "text": [
      "dataobject: 939 Mb\n"
     ]
    }
   ],
   "source": [
    "with Tracer() as t1:\n",
    "   tree = Tree(add_nodes(N))\n",
    "print(\"dataobject:\", t1.allocated // 1_000_000, 'Mb')\n",
    "del tree, t1"
   ]
  },
  {
   "cell_type": "code",
   "execution_count": 29,
   "metadata": {},
   "outputs": [
    {
     "name": "stdout",
     "output_type": "stream",
     "text": [
      "CPU times: user 22 s, sys: 272 ms, total: 22.3 s\n",
      "Wall time: 22.3 s\n",
      "CPU times: user 601 ms, sys: 68.1 ms, total: 669 ms\n",
      "Wall time: 668 ms\n"
     ]
    }
   ],
   "source": [
    "%time tree = Tree(add_nodes(N))\n",
    "%time del tree"
   ]
  },
  {
   "cell_type": "code",
   "execution_count": 30,
   "metadata": {},
   "outputs": [
    {
     "name": "stdout",
     "output_type": "stream",
     "text": [
      "__slots__: 2013 Mb\n"
     ]
    }
   ],
   "source": [
    "with Tracer() as t2:\n",
    "   tree_slots = TreeSlots(add_nodes_slots(N))\n",
    "print(\"__slots__:\", t2.allocated // 1_000_000, 'Mb')\n",
    "del tree_slots, t2"
   ]
  },
  {
   "cell_type": "code",
   "execution_count": 31,
   "metadata": {},
   "outputs": [
    {
     "name": "stdout",
     "output_type": "stream",
     "text": [
      "CPU times: user 1min 1s, sys: 532 ms, total: 1min 2s\n",
      "Wall time: 1min 2s\n",
      "CPU times: user 839 ms, sys: 84.1 ms, total: 923 ms\n",
      "Wall time: 921 ms\n"
     ]
    }
   ],
   "source": [
    "%time tree_slots = TreeSlots(add_nodes_slots(N))\n",
    "%time del tree_slots"
   ]
  },
  {
   "cell_type": "code",
   "execution_count": 32,
   "metadata": {},
   "outputs": [
    {
     "name": "stdout",
     "output_type": "stream",
     "text": [
      "dataobject+gc: 2013 Mb\n"
     ]
    }
   ],
   "source": [
    "with Tracer() as t3:\n",
    "   tree_gc = TreeGC(add_nodes_gc(N))\n",
    "print(\"dataobject+gc:\", t3.allocated // 1000000, 'Mb')\n",
    "del tree_gc, t3"
   ]
  },
  {
   "cell_type": "code",
   "execution_count": 33,
   "metadata": {},
   "outputs": [
    {
     "name": "stdout",
     "output_type": "stream",
     "text": [
      "CPU times: user 1min 1s, sys: 640 ms, total: 1min 1s\n",
      "Wall time: 1min 1s\n",
      "CPU times: user 670 ms, sys: 104 ms, total: 774 ms\n",
      "Wall time: 773 ms\n"
     ]
    }
   ],
   "source": [
    "%time tree_gc = TreeGC(add_nodes_gc(N))\n",
    "%time del tree_gc"
   ]
  },
  {
   "cell_type": "code",
   "execution_count": 34,
   "metadata": {},
   "outputs": [
    {
     "name": "stdout",
     "output_type": "stream",
     "text": [
      "Size per instance:\n",
      "   node: 32 64 64\n",
      "   leaf: 24 56 56\n"
     ]
    }
   ],
   "source": [
    "import sys\n",
    "print('Size per instance:')\n",
    "print('   node:', sys.getsizeof(Node(None,None)),\n",
    "                  sys.getsizeof(NodeSlots(None,None)), \n",
    "                  sys.getsizeof(NodeGC(None,None)))\n",
    "print('   leaf:', sys.getsizeof(Leaf(None)),\n",
    "                  sys.getsizeof(LeafSlots(None)),\n",
    "                  sys.getsizeof(LeafGC(None)))"
   ]
  },
  {
   "cell_type": "markdown",
   "metadata": {},
   "source": [
    "### General Tree"
   ]
  },
  {
   "cell_type": "code",
   "execution_count": 35,
   "metadata": {},
   "outputs": [],
   "source": [
    "class GTree(dataobject):\n",
    "   __fields__ = 'root',\n",
    "\n",
    "class GNode(dataobject): \n",
    "    __fields__ = 'children',\n",
    "\n",
    "class GLeaf(dataobject):\n",
    "    __fields__ = 'value',"
   ]
  },
  {
   "cell_type": "code",
   "execution_count": 36,
   "metadata": {},
   "outputs": [],
   "source": [
    "def add_gnodes(depth):\n",
    "    if depth == 0:\n",
    "        return GLeaf(randint(0,10))\n",
    "    children = litelist([])\n",
    "    gnode = GNode(children)\n",
    "    children.append(add_gnodes(depth-1))\n",
    "    children.append(add_gnodes(depth-1))\n",
    "    children.trim()\n",
    "    return gnode"
   ]
  },
  {
   "cell_type": "code",
   "execution_count": 37,
   "metadata": {},
   "outputs": [
    {
     "name": "stdout",
     "output_type": "stream",
     "text": [
      "dataobject: 117 Mb\n"
     ]
    }
   ],
   "source": [
    "with Tracer() as gt1:\n",
    "   gtree = GTree(add_gnodes(20))\n",
    "print(\"dataobject:\", gt1.allocated // 1000000, 'Mb')\n",
    "del gtree, gt1"
   ]
  },
  {
   "cell_type": "code",
   "execution_count": 38,
   "metadata": {},
   "outputs": [
    {
     "name": "stdout",
     "output_type": "stream",
     "text": [
      "CPU times: user 1.64 s, sys: 28 ms, total: 1.67 s\n",
      "Wall time: 1.67 s\n"
     ]
    }
   ],
   "source": [
    "%time gtree = GTree(add_gnodes(20))\n",
    "del gtree"
   ]
  },
  {
   "cell_type": "code",
   "execution_count": 39,
   "metadata": {},
   "outputs": [],
   "source": [
    "class GTreeSlots:\n",
    "    __slots__ = 'root',\n",
    "    def __init__(self, root):\n",
    "        self.root = root\n",
    "\n",
    "class GNodeSlots:\n",
    "    __slots__ = 'children', \n",
    "    def __init__(self, children):\n",
    "        self.children = children\n",
    "    \n",
    "class GLeafSlots:\n",
    "    __slots__ = 'value',\n",
    "    def __init__(self, value):\n",
    "        self.value = value"
   ]
  },
  {
   "cell_type": "code",
   "execution_count": 40,
   "metadata": {},
   "outputs": [],
   "source": [
    "def add_gnodes_slots(depth):\n",
    "    if depth == 0:\n",
    "        return GLeafSlots(randint(0,10))\n",
    "    children = []\n",
    "    gnode = GNodeSlots(children)\n",
    "    children.append(add_gnodes_slots(depth-1))\n",
    "    children.append(add_gnodes_slots(depth-1))\n",
    "    return gnode"
   ]
  },
  {
   "cell_type": "code",
   "execution_count": 41,
   "metadata": {},
   "outputs": [
    {
     "name": "stdout",
     "output_type": "stream",
     "text": [
      "__slots__: 226 Mb\n"
     ]
    }
   ],
   "source": [
    "with Tracer() as gt2:\n",
    "   gtree_slots = GTreeSlots(add_gnodes_slots(20))\n",
    "print(\"__slots__:\", gt2.allocated // 1000000, 'Mb')\n",
    "del gtree_slots, gt2"
   ]
  },
  {
   "cell_type": "code",
   "execution_count": 42,
   "metadata": {},
   "outputs": [
    {
     "name": "stdout",
     "output_type": "stream",
     "text": [
      "CPU times: user 5.92 s, sys: 87.9 ms, total: 6.01 s\n",
      "Wall time: 6 s\n"
     ]
    }
   ],
   "source": [
    "%time gtree_slots = GTreeSlots(add_gnodes_slots(20))\n",
    "del gtree_slots"
   ]
  },
  {
   "cell_type": "code",
   "execution_count": null,
   "metadata": {},
   "outputs": [],
   "source": []
  }
 ],
 "metadata": {
  "kernelspec": {
   "display_name": "Python 3",
   "language": "python",
   "name": "python3"
  },
  "language_info": {
   "codemirror_mode": {
    "name": "ipython",
    "version": 3
   },
   "file_extension": ".py",
   "mimetype": "text/x-python",
   "name": "python",
   "nbconvert_exporter": "python",
   "pygments_lexer": "ipython3",
   "version": "3.7.4"
  }
 },
 "nbformat": 4,
 "nbformat_minor": 4
}
