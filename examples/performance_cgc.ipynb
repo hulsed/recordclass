{
 "cells": [
  {
   "cell_type": "code",
   "execution_count": 1,
   "metadata": {},
   "outputs": [],
   "source": [
    "from recordclass import dataobject, enable_gc, clsconfig\n",
    "import matplotlib.pyplot as plt\n",
    "import numpy as np\n",
    "import time\n",
    "import gc"
   ]
  },
  {
   "cell_type": "code",
   "execution_count": 2,
   "metadata": {},
   "outputs": [],
   "source": [
    "class Point(dataobject):\n",
    "    x:int\n",
    "    y:int\n",
    "    __options__ = {'argsonly':True}\n",
    "\n",
    "@enable_gc\n",
    "class Point_GC(dataobject):\n",
    "    x:int\n",
    "    y:int\n",
    "    __options__ = {'argsonly':True}\n",
    "        \n",
    "class Point_Slots:\n",
    "    __slots__ = 'x','y','c','d','e','f'\n",
    "    x:int\n",
    "    y:int\n",
    "        \n",
    "    def __init__(self, x, y):\n",
    "        self.x = x; self.y = y"
   ]
  },
  {
   "cell_type": "code",
   "execution_count": 3,
   "metadata": {},
   "outputs": [],
   "source": [
    "def test(N):\n",
    "#     ll = N*[None]\n",
    "    for i in range(N):\n",
    "        c = Point(1,2)\n",
    "#         ll[i] = c\n",
    "        \n",
    "def test_gc(N):\n",
    "#     ll = N*[None]\n",
    "    for i in range(N):\n",
    "        c = Point_GC(1,2)\n",
    "#         ll[i] = c\n",
    "        \n",
    "def test_slots(N):\n",
    "#     ll = N*[None]\n",
    "    for i in range(N):\n",
    "        c = Point_Slots(1,2)\n",
    "#         ll[i] = c"
   ]
  },
  {
   "cell_type": "code",
   "execution_count": 4,
   "metadata": {},
   "outputs": [],
   "source": [
    "gc.collect()\n",
    "m = 22\n",
    "Ns = [int(2**x) for x in range(1,m+1)]\n",
    "Ts = np.zeros(m)\n",
    "Ts_gc = np.zeros(m)\n",
    "Ts_slots = np.zeros(m)\n",
    "for i in range(m):\n",
    "    N = Ns[i]\n",
    "\n",
    "    gc.collect()\n",
    "    gc.collect()\n",
    "\n",
    "    t0 = time.time()\n",
    "    test(N)\n",
    "    Ts[i] = time.time()-t0\n",
    "    \n",
    "    gc.collect()\n",
    "    gc.collect()\n",
    "    \n",
    "    t1 = time.time()\n",
    "    test_gc(N)\n",
    "    Ts_gc[i] = time.time()-t1\n",
    "\n",
    "#     gc.collect()\n",
    "#     gc.collect()\n",
    "\n",
    "#     t1 = time.time()\n",
    "#     test_slots(N)\n",
    "#     Ts_slots[i] = time.time()-t1\n",
    "    "
   ]
  },
  {
   "cell_type": "code",
   "execution_count": 5,
   "metadata": {},
   "outputs": [
    {
     "data": {
      "image/png": "[encoded data removed]",
      "text/plain": [
       "<Figure size 576x432 with 1 Axes>"
      ]
     },
     "metadata": {
      "needs_background": "light"
     },
     "output_type": "display_data"
    }
   ],
   "source": [
    "plt.figure(figsize=(8, 6))\n",
    "# plt.plot(Ns, Ts, marker='o', label='nogc')\n",
    "plt.plot(Ns, Ts_gc/Ts, marker='o', label='gc')\n",
    "# plt.loglog(Ns, Ts_slots, marker='s', label='slots')\n",
    "plt.legend()\n",
    "plt.xlabel(\"Number of instances\")\n",
    "plt.ylabel('Time')\n",
    "plt.grid(1)\n",
    "plt.show()"
   ]
  },
  {
   "cell_type": "code",
   "execution_count": 6,
   "metadata": {},
   "outputs": [],
   "source": [
    "import pickle"
   ]
  },
  {
   "cell_type": "code",
   "execution_count": 7,
   "metadata": {},
   "outputs": [],
   "source": [
    "p1 = Point(1,2)\n",
    "p2 = Point_Slots(1, 2)"
   ]
  },
  {
   "cell_type": "code",
   "execution_count": 9,
   "metadata": {},
   "outputs": [],
   "source": [
    "b1 = pickle.dumps(p1)\n",
    "b2 = pickle.dumps(p2)"
   ]
  },
  {
   "cell_type": "code",
   "execution_count": 10,
   "metadata": {},
   "outputs": [
    {
     "name": "stdout",
     "output_type": "stream",
     "text": [
      "31 61\n"
     ]
    }
   ],
   "source": [
    "print(len(b1), len(b2))"
   ]
  },
  {
   "cell_type": "code",
   "execution_count": 13,
   "metadata": {},
   "outputs": [
    {
     "name": "stdout",
     "output_type": "stream",
     "text": [
      "b'\\x80\\x03c__main__\\nPoint\\nq\\x00K\\x01K\\x02\\x86q\\x01Rq\\x02.'\n",
      "b'\\x80\\x03c__main__\\nPoint_Slots\\nq\\x00)\\x81q\\x01N}q\\x02(X\\x01\\x00\\x00\\x00xq\\x03K\\x01X\\x01\\x00\\x00\\x00yq\\x04K\\x02u\\x86q\\x05b.'\n"
     ]
    }
   ],
   "source": [
    "print(b1)\n",
    "print(b2)"
   ]
  },
  {
   "cell_type": "code",
   "execution_count": 12,
   "metadata": {},
   "outputs": [
    {
     "name": "stdout",
     "output_type": "stream",
     "text": [
      "Point(x=1, y=2)\n"
     ]
    }
   ],
   "source": [
    "print(pickle.loads(b1))"
   ]
  },
  {
   "cell_type": "code",
   "execution_count": 16,
   "metadata": {},
   "outputs": [
    {
     "name": "stdout",
     "output_type": "stream",
     "text": [
      "1000 loops, best of 5: 622 µs per loop\n"
     ]
    }
   ],
   "source": [
    "%timeit pickle.loads(pickle.dumps([Point(1,2) for i in range(1000)]))"
   ]
  },
  {
   "cell_type": "code",
   "execution_count": 17,
   "metadata": {},
   "outputs": [
    {
     "name": "stdout",
     "output_type": "stream",
     "text": [
      "100 loops, best of 5: 1.45 ms per loop\n"
     ]
    }
   ],
   "source": [
    "%timeit pickle.loads(pickle.dumps([Point_Slots(1,2) for i in range(1000)]))"
   ]
  },
  {
   "cell_type": "code",
   "execution_count": null,
   "metadata": {},
   "outputs": [],
   "source": []
  }
 ],
 "metadata": {
  "kernelspec": {
   "display_name": "Python 3",
   "language": "python",
   "name": "python3"
  },
  "language_info": {
   "codemirror_mode": {
    "name": "ipython",
    "version": 3
   },
   "file_extension": ".py",
   "mimetype": "text/x-python",
   "name": "python",
   "nbconvert_exporter": "python",
   "pygments_lexer": "ipython3",
   "version": "3.7.4"
  }
 },
 "nbformat": 4,
 "nbformat_minor": 4
}
