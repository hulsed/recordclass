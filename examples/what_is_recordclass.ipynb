{
 "cells": [
  {
   "cell_type": "markdown",
   "metadata": {},
   "source": [
    "# What is recordclass"
   ]
  },
  {
   "cell_type": "markdown",
   "metadata": {},
   "source": [
    "[Recordclass](https://pypi.python.org/pypi/recordclass) is a library for creation of `record`-like classes &ndash; \"mutable\" analog of [collections.namedtuple](https://docs.python.org/3/library/collections.html).\n",
    "They support same API as namedtuples. In addition they also support assignment operations."
   ]
  },
  {
   "cell_type": "markdown",
   "metadata": {},
   "source": [
    "It can be installed via `pip` command:\n",
    "```\n",
    "pip install recordclass\n",
    "```"
   ]
  },
  {
   "cell_type": "markdown",
   "metadata": {},
   "source": [
    "In order to start import factory functions:"
   ]
  },
  {
   "cell_type": "code",
   "execution_count": 3,
   "metadata": {},
   "outputs": [
    {
     "name": "stdout",
     "output_type": "stream",
     "text": [
      "3.7.6 (default, Jan 19 2020, 22:34:52) \n",
      "[GCC 9.2.1 20200117]\n"
     ]
    }
   ],
   "source": [
    "from recordclass import recordclass, structclass, make_dataclass\n",
    "import sys\n",
    "print(sys.version)"
   ]
  },
  {
   "cell_type": "markdown",
   "metadata": {},
   "source": [
    "## Recordclass-based classes"
   ]
  },
  {
   "cell_type": "markdown",
   "metadata": {},
   "source": [
    "`recordclass` is almost full analog of `collection.namedtuple`, but can be mutable. It is built upon `recordclass.mutabletuple` type as `collection.namedtuple` is built upon `tuple` type. `Mutabletuple`  is actually a mutable variant of `tuple`."
   ]
  },
  {
   "cell_type": "markdown",
   "metadata": {},
   "source": [
    "They are created by the same way as namedtuples:"
   ]
  },
  {
   "cell_type": "code",
   "execution_count": 4,
   "metadata": {},
   "outputs": [],
   "source": [
    "R = recordclass(\"R\", \"a b c d e f g h\")\n",
    "r = R(*range(8))"
   ]
  },
  {
   "cell_type": "markdown",
   "metadata": {},
   "source": [
    "Record has the same size as the equivalent namedtuple:"
   ]
  },
  {
   "cell_type": "code",
   "execution_count": 5,
   "metadata": {
    "scrolled": true
   },
   "outputs": [
    {
     "name": "stdout",
     "output_type": "stream",
     "text": [
      "recordclass: sizeof: 88\n",
      "namedtuple:  sizeof: 120\n"
     ]
    }
   ],
   "source": [
    "from sys import getsizeof as sizeof\n",
    "from collections import namedtuple\n",
    "\n",
    "R2 = namedtuple(\"R\", \"a b c d e f g h\")\n",
    "r2 = R2(*range(1,9))\n",
    "print(\"recordclass: sizeof:\", sizeof(r))\n",
    "print(\"namedtuple:  sizeof:\", sizeof(r2))"
   ]
  },
  {
   "cell_type": "markdown",
   "metadata": {},
   "source": [
    "Record has the same text representation as namedtuple:"
   ]
  },
  {
   "cell_type": "code",
   "execution_count": 6,
   "metadata": {},
   "outputs": [
    {
     "name": "stdout",
     "output_type": "stream",
     "text": [
      "R(a=0, b=1, c=2, d=3, e=4, f=5, g=6, h=7)\n",
      "R(a=0, b=1, c=2, d=3, e=4, f=5, g=6, h=7)\n"
     ]
    }
   ],
   "source": [
    "print(repr(r))\n",
    "print(str(r))"
   ]
  },
  {
   "cell_type": "markdown",
   "metadata": {},
   "source": [
    "It support access to field both by attribute and by index:"
   ]
  },
  {
   "cell_type": "code",
   "execution_count": 7,
   "metadata": {},
   "outputs": [
    {
     "name": "stdout",
     "output_type": "stream",
     "text": [
      "By index: 0 1 2 3 4 5 6 7\n",
      "By name:  0 1 2 3 4 5 6 7\n"
     ]
    }
   ],
   "source": [
    "print('By index:', r.a, r.b, r.c, r.d, r.e, r.f, r.g, r.h)\n",
    "print('By name: ', r[0], r[1], r[2], r[3], r[4], r[5], r[6], r[7])"
   ]
  },
  {
   "cell_type": "markdown",
   "metadata": {},
   "source": [
    "Record can change the value of any it's field inplace:"
   ]
  },
  {
   "cell_type": "code",
   "execution_count": 8,
   "metadata": {},
   "outputs": [
    {
     "name": "stdout",
     "output_type": "stream",
     "text": [
      "R(a=0, b=2, c=6, d=12, e=20, f=30, g=42, h=56)\n",
      "R(a=100, b=2, c=6, d=12, e=20, f=30, g=42, h=1000)\n",
      "Are they same? True\n"
     ]
    }
   ],
   "source": [
    "r.a, r.b, r.c, r.d, r.e, r.f, r.g, r.h = r.a, 2*r.b, 3*r.c, 4*r.d, 5*r.e, 6*r.f, 7*r.g, 8*r.h\n",
    "print(r)\n",
    "\n",
    "r1 = r._replace(a=100, h=1000)\n",
    "print(r1)\n",
    "print('Are they same?', r1 is r)"
   ]
  },
  {
   "cell_type": "markdown",
   "metadata": {},
   "source": [
    "Records supports iterative unpacking and iteration over values in fields:"
   ]
  },
  {
   "cell_type": "code",
   "execution_count": 9,
   "metadata": {},
   "outputs": [
    {
     "name": "stdout",
     "output_type": "stream",
     "text": [
      "100 2 6 12 20 30 42 1000\n",
      "100 2 6 12 20 30 42 1000 "
     ]
    }
   ],
   "source": [
    "a, b, c, d, e, f, g, h = r\n",
    "print(a, b, c, d, e, f, g, h)\n",
    "\n",
    "for v in r:\n",
    "    print(v, end=\" \")"
   ]
  },
  {
   "cell_type": "markdown",
   "metadata": {},
   "source": [
    "As namedtuple it can be converted to dict (infact to OrdeedDict as namedtuple):"
   ]
  },
  {
   "cell_type": "code",
   "execution_count": 10,
   "metadata": {},
   "outputs": [
    {
     "data": {
      "text/plain": [
       "OrderedDict([('a', 100),\n",
       "             ('b', 2),\n",
       "             ('c', 6),\n",
       "             ('d', 12),\n",
       "             ('e', 20),\n",
       "             ('f', 30),\n",
       "             ('g', 42),\n",
       "             ('h', 1000)])"
      ]
     },
     "execution_count": 10,
     "metadata": {},
     "output_type": "execute_result"
    }
   ],
   "source": [
    "r._asdict()"
   ]
  },
  {
   "cell_type": "markdown",
   "metadata": {},
   "source": [
    "Records are pickable and unpickable\""
   ]
  },
  {
   "cell_type": "code",
   "execution_count": 11,
   "metadata": {},
   "outputs": [
    {
     "data": {
      "text/plain": [
       "True"
      ]
     },
     "execution_count": 11,
     "metadata": {},
     "output_type": "execute_result"
    }
   ],
   "source": [
    "import pickle\n",
    "r_pickled = pickle.dumps(r)\n",
    "r_unpickled = pickle.loads(r_pickled)\n",
    "r == r_unpickled"
   ]
  },
  {
   "cell_type": "markdown",
   "metadata": {},
   "source": [
    "Recordclasses has `__attrs__` attribute and an empty `__slots__`:"
   ]
  },
  {
   "cell_type": "code",
   "execution_count": 12,
   "metadata": {},
   "outputs": [
    {
     "name": "stdout",
     "output_type": "stream",
     "text": [
      "('a', 'b', 'c', 'd', 'e', 'f', 'g', 'h')\n",
      "()\n"
     ]
    }
   ],
   "source": [
    "print(R.__fields__)\n",
    "print(R.__slots__)"
   ]
  },
  {
   "cell_type": "markdown",
   "metadata": {},
   "source": [
    "Implementation of the recordclass is fast enough:"
   ]
  },
  {
   "cell_type": "code",
   "execution_count": 35,
   "metadata": {},
   "outputs": [],
   "source": [
    "STest = namedtuple(\"TEST\", \"a b c d e f g h i j k\")\n",
    "nt = STest(a=1,b=2,c=3,d=4,e=5,f=6,g=7,h=8,i=9,j=10,k=11)\n",
    "\n",
    "RTest = recordclass(\"RTEST\", \"a b c d e f g h i j k\")\n",
    "rc = RTest(a=1,b=2,c=3,d=4,e=5,f=6,g=7,h=8,i=9,j=10,k=11)\n",
    "\n",
    "RTest2 = structclass(\"RTEST\", \"a b c d e f g h i j k\")\n",
    "sc = RTest2(a=1,b=2,c=3,d=4,e=5,f=6,g=7,h=8,i=9,j=10,k=11)\n",
    "\n",
    "RTest3 = structclass(\"RTEST\", \"a b c d e f g h i j k\", gc=True)\n",
    "sc2 = RTest3(a=1,b=2,c=3,d=4,e=5,f=6,g=7,h=8,i=9,j=10,k=11)\n",
    "\n",
    "class Test(object):\n",
    "    __slots__ = [\"a\",\"b\",\"c\",\"d\",\"e\",\"f\",\"g\",\"h\",\"i\",\"j\",\"k\"]\n",
    "\n",
    "    def __init__(self, a, b, c, d, e, f, g, h, i, j, k):\n",
    "        self.a = a; self.b = b; self.c = c\n",
    "        self.d = d; self.e = e; self.f = f\n",
    "        self.g = g; self.h = h; self.i = i\n",
    "        self.j = j; self.k = k\n",
    "\n",
    "b = Test(1,2,3,4,5,6,7,8,9,10,11)\n",
    "\n",
    "c = {'a':1, 'b':2, 'c':3, 'd':4, 'e':5, 'f':6, 'g':7, 'h':8, 'i':9, 'j':10, 'k':11}\n",
    "\n",
    "d = (1,2,3,4,5,6,7,8,9,10,11)\n",
    "e = [1,2,3,4,5,6,7,8,9,10,11]\n",
    "f = (1,2,3,4,5,6,7,8,9,10,11)\n",
    "g = [1,2,3,4,5,6,7,8,9,10,11]\n",
    "key = 10\n",
    "\n",
    "# ND_V = new_datatype(\"ND_V\", varsize=True)\n",
    "# ndv = ND_V(1,2,3,4,5,6,7,8,9,10,11)\n",
    "\n",
    "DO = make_dataclass(\"DO\", fields=(\"a\",\"b\",\"c\",\"d\",\"e\",\"f\",\"g\",\"h\",\"i\",\"j\",\"k\"))\n",
    "do = DO(1,2,3,4,5,6,7,8,9,10,11)\n"
   ]
  },
  {
   "cell_type": "code",
   "execution_count": 22,
   "metadata": {},
   "outputs": [],
   "source": [
    "from timeit import timeit\n",
    "import matplotlib.pyplot as plt\n",
    "\n",
    "labels1 = {\n",
    "    'nt_a' : 'namedtuple/attribute',\n",
    "    'nt_i' : 'namedtuple/index',\n",
    "    'rc_a' : 'recordclass/attribute',\n",
    "    'rc_i' : 'recordclass/index',\n",
    "    'rc2_a' : 'structclass/attribute',\n",
    "    'rc2_i' : 'structclass/index',\n",
    "#     'ndv_i' : 'nd_varsize/index',\n",
    "    'nds_i' : 'dataobject/index',\n",
    "    'nds_a' : 'dataobject/attribute',\n",
    "#     'ndvs_i' : 'nd_slots_varsize/index',\n",
    "    'cs' : 'class/slots',\n",
    "    'dt' : 'dict/key',\n",
    "    'tp' : 'tuple/index',\n",
    "    'lt' : 'list/index',\n",
    "    'for' : 'for overhead',\n",
    "}\n",
    "\n",
    "import gc\n",
    "\n",
    "d1 = {}\n",
    "gc.collect()\n",
    "#gc.disable()\n",
    "d1['nt_a'] = timeit(\"z = nt.a; z = nt.f; z = nt.k\", \"from __main__ import nt\")\n",
    "d1['nt_i'] = timeit(\"z = nt[0]; z = nt[5]; z = nt[10]\", \"from __main__ import nt\")\n",
    "d1['rc_a'] = timeit(\"z = rc.a; z = rc.f; z = rc.k\", \"from __main__ import rc\")\n",
    "d1['rc_i'] = timeit(\"z = rc[0]; z = rc[5]; z = rc[10]\", \"from __main__ import rc\")\n",
    "d1['rc2_a'] = timeit(\"z = sc.a; z = sc.f; z = sc.k\", \"from __main__ import sc\")\n",
    "d1['rc2_i'] = timeit(\"z = sc[0]; z = sc[5]; z = sc[10]\", \"from __main__ import sc\")\n",
    "d1['nds_a'] = timeit(\"z = do.a; z = do.f; z = do.k\", \"from __main__ import do\")\n",
    "d1['cs'] = timeit(\"z = b.a; z = b.f; z = b.k\", \"from __main__ import b\")\n",
    "d1['dt'] = timeit(\"z = c['a']; z = c['f']; z = c['k']\", \"from __main__ import c\")\n",
    "d1['tp'] = timeit(\"z = d[0]; z = d[5]; z = d[10]\", \"from __main__ import d\")\n",
    "d1['lt'] = timeit(\"z = e[0]; z = e[5]; z = e[10]\", \"from __main__ import e\")\n",
    "#gc.enable()\n"
   ]
  },
  {
   "cell_type": "code",
   "execution_count": 23,
   "metadata": {},
   "outputs": [
    {
     "data": {
      "image/png": "[encoded data removed]",
      "text/plain": [
       "<Figure size 936x360 with 1 Axes>"
      ]
     },
     "metadata": {
      "needs_background": "light"
     },
     "output_type": "display_data"
    }
   ],
   "source": [
    "keys1 = list(sorted(d1.keys()))\n",
    "n1 = len(d1)\n",
    "\n",
    "plt.figure(figsize=(13,5))\n",
    "plt.barh(range(n1), [d1[key] for key in keys1], color='LightBlue', edgecolor='DarkBlue')\n",
    "for i,key in enumerate(keys1):\n",
    "    plt.text(d1[key], i+0.15, '%.3f'%d1[key])\n",
    "    plt.text(d1[key], i-0.33, labels1[key])\n",
    "plt.yticks([],[])\n",
    "plt.title('Timings (ns)')\n",
    "plt.minorticks_on()\n",
    "plt.show()"
   ]
  },
  {
   "cell_type": "code",
   "execution_count": 26,
   "metadata": {},
   "outputs": [],
   "source": [
    "d2 = dict(\n",
    " nt = sizeof(nt),  \n",
    " rc = sizeof(rc),  \n",
    " sc = sizeof(sc),\n",
    "#  ndv = sizeof(ndv),\n",
    " do = sizeof(do),\n",
    "#  ndvs = sizeof(ndvs),\n",
    " cs = sizeof(b),\n",
    " tp = sizeof(d),\n",
    ")\n",
    "\n",
    "labels2 = dict(\n",
    "    nt = 'namedtuple',\n",
    "    rc = 'recordclass',\n",
    "    sc = 'structclass',\n",
    "#     ndv = 'nd_varsize',\n",
    "    do = 'dataobject',\n",
    "#     ndvs = 'nd_slots_varsize',\n",
    "    cs = 'class/slots',\n",
    "    tp = 'tuple',\n",
    ")"
   ]
  },
  {
   "cell_type": "code",
   "execution_count": 27,
   "metadata": {},
   "outputs": [
    {
     "data": {
      "image/png": "[encoded data removed]",
      "text/plain": [
       "<Figure size 576x360 with 1 Axes>"
      ]
     },
     "metadata": {
      "needs_background": "light"
     },
     "output_type": "display_data"
    }
   ],
   "source": [
    "keys2 = list(sorted(d2.keys()))\n",
    "n2 = len(d2)\n",
    "\n",
    "plt.figure(figsize=(8,5))\n",
    "plt.barh(range(n2), [d2[key] for key in keys2], color='LightBlue', edgecolor='DarkBlue')\n",
    "for i,key in enumerate(keys2):\n",
    "    plt.text(d2[key], i+0.15, '%d'%d2[key])\n",
    "    plt.text(d2[key], i-0.33, labels2[key])\n",
    "plt.yticks([],[])\n",
    "plt.title('Size (bytes)')\n",
    "plt.xlim(96,144)\n",
    "plt.xticks([96,104,112,120,128,136,144])\n",
    "plt.show()"
   ]
  },
  {
   "cell_type": "code",
   "execution_count": 28,
   "metadata": {},
   "outputs": [
    {
     "data": {
      "image/png": "[encoded data removed]",
      "text/plain": [
       "<Figure size 576x360 with 1 Axes>"
      ]
     },
     "metadata": {
      "needs_background": "light"
     },
     "output_type": "display_data"
    }
   ],
   "source": [
    "B = 128\n",
    "\n",
    "plt.figure(figsize=(8,5))\n",
    "plt.barh(range(n2), [d2[key] for key in keys2], color='LightBlue', edgecolor='DarkBlue')\n",
    "for i,key in enumerate(keys2):\n",
    "    v = (d2[key] / B) * 100\n",
    "    plt.text(d2[key], i+0.15, '%d%%'% v)\n",
    "    plt.text(d2[key], i-0.33, labels2[key])\n",
    "plt.yticks([],[])\n",
    "plt.title('Size (bytes)')\n",
    "plt.xlim(96,144)\n",
    "plt.xticks([96,104,112,120,128,136,144])\n",
    "plt.show()"
   ]
  },
  {
   "cell_type": "markdown",
   "metadata": {},
   "source": [
    "## Structclass"
   ]
  },
  {
   "cell_type": "markdown",
   "metadata": {},
   "source": [
    "Infact recordclass instances require more memory than `__slots__`-based instances:"
   ]
  },
  {
   "cell_type": "code",
   "execution_count": 29,
   "metadata": {},
   "outputs": [
    {
     "name": "stdout",
     "output_type": "stream",
     "text": [
      "72 48\n"
     ]
    }
   ],
   "source": [
    "class R:\n",
    "    __slots__ = ('a', 'b', 'c')\n",
    "    def __init__(self, a, b, c):\n",
    "        self.a = a\n",
    "        self.b = b\n",
    "        self.c = c\n",
    "        \n",
    "RC = recordclass('R', 'a b c')\n",
    "r = R(1,2,3)\n",
    "rc = RC(1,2,3)\n",
    "\n",
    "print(sizeof(r), sizeof(rc))"
   ]
  },
  {
   "cell_type": "markdown",
   "metadata": {},
   "source": [
    "This is because a tuple object and correspondently a recordclass-based instance contains its size when an `__slots__`-based instance is not."
   ]
  },
  {
   "cell_type": "markdown",
   "metadata": {},
   "source": [
    "As the solution the `structclass` factory function is invented. It created classes, whose instances are not contain the size (it's `PyObject`-kind object, not `PyObjectVar`-kind) and has same memory layout as `__slots__`-based ones. But they are not `__slots__`-based and doesn't support cyclic garbage collection by default (it's natural for nonrecursive records and simple structs)."
   ]
  },
  {
   "cell_type": "code",
   "execution_count": 30,
   "metadata": {},
   "outputs": [
    {
     "name": "stdout",
     "output_type": "stream",
     "text": [
      "40 72 48\n"
     ]
    }
   ],
   "source": [
    "RS = structclass('RS', 'a b c')\n",
    "rs = RS(1,2,3)\n",
    "\n",
    "print(sizeof(rs), sizeof(r), sizeof(rc))"
   ]
  },
  {
   "cell_type": "markdown",
   "metadata": {},
   "source": [
    "It can be turn on cyclic garbage collection. Then it will have same size as `__slots__`-based one."
   ]
  },
  {
   "cell_type": "code",
   "execution_count": 31,
   "metadata": {},
   "outputs": [
    {
     "name": "stdout",
     "output_type": "stream",
     "text": [
      "72 72 48\n"
     ]
    }
   ],
   "source": [
    "RS_gc = structclass('RS_gc', 'a b c', gc=True)\n",
    "rs_gc = RS_gc(1,2,3)\n",
    "\n",
    "print(sizeof(rs_gc), sizeof(r), sizeof(rc))"
   ]
  },
  {
   "cell_type": "markdown",
   "metadata": {},
   "source": [
    "Here is the table for sizes comparisons:"
   ]
  },
  {
   "cell_type": "code",
   "execution_count": 36,
   "metadata": {},
   "outputs": [
    {
     "data": {
      "text/html": [
       "<div>\n",
       "<style scoped>\n",
       "    .dataframe tbody tr th:only-of-type {\n",
       "        vertical-align: middle;\n",
       "    }\n",
       "\n",
       "    .dataframe tbody tr th {\n",
       "        vertical-align: top;\n",
       "    }\n",
       "\n",
       "    .dataframe thead th {\n",
       "        text-align: right;\n",
       "    }\n",
       "</style>\n",
       "<table border=\"1\" class=\"dataframe\">\n",
       "  <thead>\n",
       "    <tr style=\"text-align: right;\">\n",
       "      <th></th>\n",
       "      <th>recordclass</th>\n",
       "      <th>namedtuple</th>\n",
       "      <th>class+__slots__</th>\n",
       "      <th>structclass/no_gc</th>\n",
       "      <th>structclass/gc</th>\n",
       "    </tr>\n",
       "  </thead>\n",
       "  <tbody>\n",
       "    <tr>\n",
       "      <th>size</th>\n",
       "      <td>112</td>\n",
       "      <td>144</td>\n",
       "      <td>136</td>\n",
       "      <td>104</td>\n",
       "      <td>136</td>\n",
       "    </tr>\n",
       "  </tbody>\n",
       "</table>\n",
       "</div>"
      ],
      "text/plain": [
       "      recordclass  namedtuple  class+__slots__  structclass/no_gc  \\\n",
       "size          112         144              136                104   \n",
       "\n",
       "      structclass/gc  \n",
       "size             136  "
      ]
     },
     "execution_count": 36,
     "metadata": {},
     "output_type": "execute_result"
    }
   ],
   "source": [
    "import pandas as pd\n",
    "\n",
    "df = pd.DataFrame(\n",
    "    [(sizeof(rc), \n",
    "      sizeof(nt),\n",
    "      sizeof(b),\n",
    "      sizeof(sc),\n",
    "      sizeof(sc2),\n",
    "     )\n",
    "    ], columns=[\n",
    "        'recordclass', 'namedtuple', 'class+__slots__', \n",
    "        'structclass/no_gc', 'structclass/gc'], index=['size'])\n",
    "df"
   ]
  },
  {
   "cell_type": "markdown",
   "metadata": {},
   "source": [
    "It can be also turn on `__dict__`:"
   ]
  },
  {
   "cell_type": "code",
   "execution_count": 37,
   "metadata": {},
   "outputs": [
    {
     "name": "stdout",
     "output_type": "stream",
     "text": [
      "RS_d(a=1, b=2, c=3, **{'d': 100, 'e': 200, 'f': 300})\n",
      "48 {'d': 100, 'e': 200, 'f': 300}\n"
     ]
    }
   ],
   "source": [
    "RS_d = structclass('RS_d', 'a b c', use_dict=True)\n",
    "\n",
    "rs_d = RS_d(1,2,3)\n",
    "rs_d.d = 100\n",
    "rs_d.e = 200\n",
    "rs_d.f = 300\n",
    "print(rs_d)\n",
    "print(sizeof(rs_d), rs_d.__dict__)"
   ]
  },
  {
   "cell_type": "code",
   "execution_count": 38,
   "metadata": {},
   "outputs": [
    {
     "name": "stdout",
     "output_type": "stream",
     "text": [
      "True\n",
      "True\n"
     ]
    }
   ],
   "source": [
    "rs_pickled = pickle.dumps(rs)\n",
    "rs_unpickled = pickle.loads(rs_pickled)\n",
    "print(rs == rs_unpickled)\n",
    "rs_d_pickled = pickle.dumps(rs_d)\n",
    "rs_d_unpickled = pickle.loads(rs_d_pickled)\n",
    "print(rs_d == rs_d_unpickled)"
   ]
  },
  {
   "cell_type": "markdown",
   "metadata": {},
   "source": [
    "## Type hints for python ≥3.6"
   ]
  },
  {
   "cell_type": "code",
   "execution_count": 39,
   "metadata": {},
   "outputs": [],
   "source": [
    "from recordclass import RecordClass, StructClass"
   ]
  },
  {
   "cell_type": "code",
   "execution_count": 40,
   "metadata": {},
   "outputs": [],
   "source": [
    "class RC(RecordClass):\n",
    "    name: str\n",
    "    age: int\n",
    "\n",
    "class SC(StructClass):\n",
    "    name: str\n",
    "    age: int\n",
    "        "
   ]
  },
  {
   "cell_type": "code",
   "execution_count": 41,
   "metadata": {},
   "outputs": [],
   "source": [
    "rc = RC(\"John\", 36)\n",
    "sc = SC(\"John\", 36)"
   ]
  },
  {
   "cell_type": "code",
   "execution_count": 42,
   "metadata": {},
   "outputs": [
    {
     "name": "stdout",
     "output_type": "stream",
     "text": [
      "John 36\n",
      "John 36\n"
     ]
    }
   ],
   "source": [
    "print(rc.name, rc.age)\n",
    "print(sc.name, sc.age)"
   ]
  },
  {
   "cell_type": "code",
   "execution_count": 43,
   "metadata": {},
   "outputs": [
    {
     "name": "stdout",
     "output_type": "stream",
     "text": [
      "{'name': <class 'str'>, 'age': <class 'int'>}\n",
      "{'name': <class 'str'>, 'age': <class 'int'>}\n"
     ]
    }
   ],
   "source": [
    "print(RC.__annotations__)\n",
    "print(SC.__annotations__)"
   ]
  },
  {
   "cell_type": "code",
   "execution_count": 44,
   "metadata": {},
   "outputs": [],
   "source": [
    "A = structclass('A', 'a')\n",
    "\n",
    "class B(A):\n",
    "    pass\n"
   ]
  },
  {
   "cell_type": "code",
   "execution_count": 45,
   "metadata": {},
   "outputs": [
    {
     "name": "stdout",
     "output_type": "stream",
     "text": [
      "487632 727632 407632\n",
      "100%\n",
      "149%\n",
      "84%\n"
     ]
    }
   ],
   "source": [
    "Point1 = recordclass('Point1', 'a b')\n",
    "Point2 = structclass('Point3', 'a b', gc=True)\n",
    "Point3 = structclass('Point2', 'a b')\n",
    "\n",
    "lst1 = [Point1(i, i) for i in range(10000)]\n",
    "lst2 = [Point2(i, i) for i in range(10000)]\n",
    "lst3 = [Point3(i, i) for i in range(10000)]\n",
    "\n",
    "def calculate_size(lst):\n",
    "    size1 = sys.getsizeof(lst)\n",
    "    size2 = sum(sys.getsizeof(ob) for ob in lst)\n",
    "    size = size1 + size2\n",
    "    return size\n",
    "\n",
    "size1 = calculate_size(lst1)\n",
    "size2 = calculate_size(lst2)\n",
    "size3 = calculate_size(lst3)\n",
    "\n",
    "print(size1, size2, size3)\n",
    "\n",
    "print(\"100%\")\n",
    "print(\"%.0f%%\" % (100*size2/size1))\n",
    "print(\"%.0f%%\" % (100*size3/size1))"
   ]
  },
  {
   "cell_type": "code",
   "execution_count": null,
   "metadata": {},
   "outputs": [],
   "source": []
  }
 ],
 "metadata": {
  "kernelspec": {
   "display_name": "Python 3",
   "language": "python",
   "name": "python3"
  },
  "language_info": {
   "codemirror_mode": {
    "name": "ipython",
    "version": 3
   },
   "file_extension": ".py",
   "mimetype": "text/x-python",
   "name": "python",
   "nbconvert_exporter": "python",
   "pygments_lexer": "ipython3",
   "version": "3.7.6"
  }
 },
 "nbformat": 4,
 "nbformat_minor": 4
}
